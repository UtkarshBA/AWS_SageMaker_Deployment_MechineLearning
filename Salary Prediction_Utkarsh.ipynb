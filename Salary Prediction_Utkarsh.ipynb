{
 "cells": [
  {
   "cell_type": "markdown",
   "metadata": {},
   "source": [
    "## Problem Statment -Predict the employee salary based on experience in number of years .\n",
    "## Predict the value of Y(Depedent Variable)  with the help of X (Independent Variable).\n"
   ]
  },
  {
   "cell_type": "markdown",
   "metadata": {},
   "source": [
    "### Import libraries"
   ]
  },
  {
   "cell_type": "code",
   "execution_count": 43,
   "metadata": {
    "tags": []
   },
   "outputs": [],
   "source": [
    "import pandas as pd\n",
    "import numpy as np\n",
    "%matplotlib inline\n",
    "import matplotlib.pyplot as plt\n",
    "import seaborn as sns\n",
    "from sklearn.model_selection import train_test_split \n",
    "from sklearn.preprocessing import StandardScaler , MinMaxScaler\n",
    "from sklearn.linear_model import LinearRegression\n",
    "from sklearn.metrics import mean_squared_error , accuracy_score"
   ]
  },
  {
   "cell_type": "markdown",
   "metadata": {},
   "source": [
    "## Load Data"
   ]
  },
  {
   "cell_type": "code",
   "execution_count": 44,
   "metadata": {
    "scrolled": true,
    "tags": []
   },
   "outputs": [
    {
     "data": {
      "text/html": [
       "<div>\n",
       "<style scoped>\n",
       "    .dataframe tbody tr th:only-of-type {\n",
       "        vertical-align: middle;\n",
       "    }\n",
       "\n",
       "    .dataframe tbody tr th {\n",
       "        vertical-align: top;\n",
       "    }\n",
       "\n",
       "    .dataframe thead th {\n",
       "        text-align: right;\n",
       "    }\n",
       "</style>\n",
       "<table border=\"1\" class=\"dataframe\">\n",
       "  <thead>\n",
       "    <tr style=\"text-align: right;\">\n",
       "      <th></th>\n",
       "      <th>YearsExperience</th>\n",
       "      <th>Salary</th>\n",
       "    </tr>\n",
       "  </thead>\n",
       "  <tbody>\n",
       "    <tr>\n",
       "      <th>0</th>\n",
       "      <td>1.1</td>\n",
       "      <td>39343</td>\n",
       "    </tr>\n",
       "    <tr>\n",
       "      <th>1</th>\n",
       "      <td>1.3</td>\n",
       "      <td>46205</td>\n",
       "    </tr>\n",
       "    <tr>\n",
       "      <th>2</th>\n",
       "      <td>1.5</td>\n",
       "      <td>37731</td>\n",
       "    </tr>\n",
       "    <tr>\n",
       "      <th>3</th>\n",
       "      <td>2.0</td>\n",
       "      <td>43525</td>\n",
       "    </tr>\n",
       "    <tr>\n",
       "      <th>4</th>\n",
       "      <td>2.2</td>\n",
       "      <td>39891</td>\n",
       "    </tr>\n",
       "    <tr>\n",
       "      <th>5</th>\n",
       "      <td>2.9</td>\n",
       "      <td>56642</td>\n",
       "    </tr>\n",
       "    <tr>\n",
       "      <th>6</th>\n",
       "      <td>3.0</td>\n",
       "      <td>60150</td>\n",
       "    </tr>\n",
       "    <tr>\n",
       "      <th>7</th>\n",
       "      <td>3.2</td>\n",
       "      <td>54445</td>\n",
       "    </tr>\n",
       "    <tr>\n",
       "      <th>8</th>\n",
       "      <td>3.2</td>\n",
       "      <td>64445</td>\n",
       "    </tr>\n",
       "    <tr>\n",
       "      <th>9</th>\n",
       "      <td>3.7</td>\n",
       "      <td>57189</td>\n",
       "    </tr>\n",
       "    <tr>\n",
       "      <th>10</th>\n",
       "      <td>3.9</td>\n",
       "      <td>63218</td>\n",
       "    </tr>\n",
       "    <tr>\n",
       "      <th>11</th>\n",
       "      <td>4.0</td>\n",
       "      <td>55794</td>\n",
       "    </tr>\n",
       "    <tr>\n",
       "      <th>12</th>\n",
       "      <td>4.0</td>\n",
       "      <td>56957</td>\n",
       "    </tr>\n",
       "    <tr>\n",
       "      <th>13</th>\n",
       "      <td>4.1</td>\n",
       "      <td>57081</td>\n",
       "    </tr>\n",
       "    <tr>\n",
       "      <th>14</th>\n",
       "      <td>4.5</td>\n",
       "      <td>61111</td>\n",
       "    </tr>\n",
       "    <tr>\n",
       "      <th>15</th>\n",
       "      <td>4.9</td>\n",
       "      <td>67938</td>\n",
       "    </tr>\n",
       "    <tr>\n",
       "      <th>16</th>\n",
       "      <td>5.1</td>\n",
       "      <td>66029</td>\n",
       "    </tr>\n",
       "    <tr>\n",
       "      <th>17</th>\n",
       "      <td>5.3</td>\n",
       "      <td>83088</td>\n",
       "    </tr>\n",
       "    <tr>\n",
       "      <th>18</th>\n",
       "      <td>5.9</td>\n",
       "      <td>81363</td>\n",
       "    </tr>\n",
       "    <tr>\n",
       "      <th>19</th>\n",
       "      <td>6.0</td>\n",
       "      <td>93940</td>\n",
       "    </tr>\n",
       "    <tr>\n",
       "      <th>20</th>\n",
       "      <td>6.8</td>\n",
       "      <td>91738</td>\n",
       "    </tr>\n",
       "    <tr>\n",
       "      <th>21</th>\n",
       "      <td>7.1</td>\n",
       "      <td>98273</td>\n",
       "    </tr>\n",
       "    <tr>\n",
       "      <th>22</th>\n",
       "      <td>7.9</td>\n",
       "      <td>101302</td>\n",
       "    </tr>\n",
       "    <tr>\n",
       "      <th>23</th>\n",
       "      <td>8.2</td>\n",
       "      <td>113812</td>\n",
       "    </tr>\n",
       "    <tr>\n",
       "      <th>24</th>\n",
       "      <td>8.7</td>\n",
       "      <td>109431</td>\n",
       "    </tr>\n",
       "    <tr>\n",
       "      <th>25</th>\n",
       "      <td>9.0</td>\n",
       "      <td>105582</td>\n",
       "    </tr>\n",
       "    <tr>\n",
       "      <th>26</th>\n",
       "      <td>9.5</td>\n",
       "      <td>116969</td>\n",
       "    </tr>\n",
       "    <tr>\n",
       "      <th>27</th>\n",
       "      <td>9.6</td>\n",
       "      <td>112635</td>\n",
       "    </tr>\n",
       "    <tr>\n",
       "      <th>28</th>\n",
       "      <td>10.3</td>\n",
       "      <td>122391</td>\n",
       "    </tr>\n",
       "    <tr>\n",
       "      <th>29</th>\n",
       "      <td>10.5</td>\n",
       "      <td>121872</td>\n",
       "    </tr>\n",
       "    <tr>\n",
       "      <th>30</th>\n",
       "      <td>11.2</td>\n",
       "      <td>127345</td>\n",
       "    </tr>\n",
       "    <tr>\n",
       "      <th>31</th>\n",
       "      <td>11.5</td>\n",
       "      <td>126756</td>\n",
       "    </tr>\n",
       "    <tr>\n",
       "      <th>32</th>\n",
       "      <td>12.3</td>\n",
       "      <td>128765</td>\n",
       "    </tr>\n",
       "    <tr>\n",
       "      <th>33</th>\n",
       "      <td>12.9</td>\n",
       "      <td>135675</td>\n",
       "    </tr>\n",
       "    <tr>\n",
       "      <th>34</th>\n",
       "      <td>13.5</td>\n",
       "      <td>139465</td>\n",
       "    </tr>\n",
       "  </tbody>\n",
       "</table>\n",
       "</div>"
      ],
      "text/plain": [
       "    YearsExperience  Salary\n",
       "0               1.1   39343\n",
       "1               1.3   46205\n",
       "2               1.5   37731\n",
       "3               2.0   43525\n",
       "4               2.2   39891\n",
       "5               2.9   56642\n",
       "6               3.0   60150\n",
       "7               3.2   54445\n",
       "8               3.2   64445\n",
       "9               3.7   57189\n",
       "10              3.9   63218\n",
       "11              4.0   55794\n",
       "12              4.0   56957\n",
       "13              4.1   57081\n",
       "14              4.5   61111\n",
       "15              4.9   67938\n",
       "16              5.1   66029\n",
       "17              5.3   83088\n",
       "18              5.9   81363\n",
       "19              6.0   93940\n",
       "20              6.8   91738\n",
       "21              7.1   98273\n",
       "22              7.9  101302\n",
       "23              8.2  113812\n",
       "24              8.7  109431\n",
       "25              9.0  105582\n",
       "26              9.5  116969\n",
       "27              9.6  112635\n",
       "28             10.3  122391\n",
       "29             10.5  121872\n",
       "30             11.2  127345\n",
       "31             11.5  126756\n",
       "32             12.3  128765\n",
       "33             12.9  135675\n",
       "34             13.5  139465"
      ]
     },
     "execution_count": 44,
     "metadata": {},
     "output_type": "execute_result"
    }
   ],
   "source": [
    "df = pd.read_csv('Salary.csv') # reading the data \n",
    "df"
   ]
  },
  {
   "cell_type": "code",
   "execution_count": 45,
   "metadata": {
    "tags": []
   },
   "outputs": [
    {
     "data": {
      "text/html": [
       "<div>\n",
       "<style scoped>\n",
       "    .dataframe tbody tr th:only-of-type {\n",
       "        vertical-align: middle;\n",
       "    }\n",
       "\n",
       "    .dataframe tbody tr th {\n",
       "        vertical-align: top;\n",
       "    }\n",
       "\n",
       "    .dataframe thead th {\n",
       "        text-align: right;\n",
       "    }\n",
       "</style>\n",
       "<table border=\"1\" class=\"dataframe\">\n",
       "  <thead>\n",
       "    <tr style=\"text-align: right;\">\n",
       "      <th></th>\n",
       "      <th>YearsExperience</th>\n",
       "      <th>Salary</th>\n",
       "    </tr>\n",
       "  </thead>\n",
       "  <tbody>\n",
       "    <tr>\n",
       "      <th>0</th>\n",
       "      <td>1.1</td>\n",
       "      <td>39343</td>\n",
       "    </tr>\n",
       "    <tr>\n",
       "      <th>1</th>\n",
       "      <td>1.3</td>\n",
       "      <td>46205</td>\n",
       "    </tr>\n",
       "    <tr>\n",
       "      <th>2</th>\n",
       "      <td>1.5</td>\n",
       "      <td>37731</td>\n",
       "    </tr>\n",
       "    <tr>\n",
       "      <th>3</th>\n",
       "      <td>2.0</td>\n",
       "      <td>43525</td>\n",
       "    </tr>\n",
       "    <tr>\n",
       "      <th>4</th>\n",
       "      <td>2.2</td>\n",
       "      <td>39891</td>\n",
       "    </tr>\n",
       "  </tbody>\n",
       "</table>\n",
       "</div>"
      ],
      "text/plain": [
       "   YearsExperience  Salary\n",
       "0              1.1   39343\n",
       "1              1.3   46205\n",
       "2              1.5   37731\n",
       "3              2.0   43525\n",
       "4              2.2   39891"
      ]
     },
     "execution_count": 45,
     "metadata": {},
     "output_type": "execute_result"
    }
   ],
   "source": [
    "df.head() # Use of head "
   ]
  },
  {
   "cell_type": "code",
   "execution_count": 46,
   "metadata": {
    "tags": []
   },
   "outputs": [
    {
     "data": {
      "text/html": [
       "<div>\n",
       "<style scoped>\n",
       "    .dataframe tbody tr th:only-of-type {\n",
       "        vertical-align: middle;\n",
       "    }\n",
       "\n",
       "    .dataframe tbody tr th {\n",
       "        vertical-align: top;\n",
       "    }\n",
       "\n",
       "    .dataframe thead th {\n",
       "        text-align: right;\n",
       "    }\n",
       "</style>\n",
       "<table border=\"1\" class=\"dataframe\">\n",
       "  <thead>\n",
       "    <tr style=\"text-align: right;\">\n",
       "      <th></th>\n",
       "      <th>YearsExperience</th>\n",
       "      <th>Salary</th>\n",
       "    </tr>\n",
       "  </thead>\n",
       "  <tbody>\n",
       "    <tr>\n",
       "      <th>30</th>\n",
       "      <td>11.2</td>\n",
       "      <td>127345</td>\n",
       "    </tr>\n",
       "    <tr>\n",
       "      <th>31</th>\n",
       "      <td>11.5</td>\n",
       "      <td>126756</td>\n",
       "    </tr>\n",
       "    <tr>\n",
       "      <th>32</th>\n",
       "      <td>12.3</td>\n",
       "      <td>128765</td>\n",
       "    </tr>\n",
       "    <tr>\n",
       "      <th>33</th>\n",
       "      <td>12.9</td>\n",
       "      <td>135675</td>\n",
       "    </tr>\n",
       "    <tr>\n",
       "      <th>34</th>\n",
       "      <td>13.5</td>\n",
       "      <td>139465</td>\n",
       "    </tr>\n",
       "  </tbody>\n",
       "</table>\n",
       "</div>"
      ],
      "text/plain": [
       "    YearsExperience  Salary\n",
       "30             11.2  127345\n",
       "31             11.5  126756\n",
       "32             12.3  128765\n",
       "33             12.9  135675\n",
       "34             13.5  139465"
      ]
     },
     "execution_count": 46,
     "metadata": {},
     "output_type": "execute_result"
    }
   ],
   "source": [
    "df.tail() # use of tail"
   ]
  },
  {
   "cell_type": "code",
   "execution_count": 47,
   "metadata": {
    "tags": []
   },
   "outputs": [
    {
     "data": {
      "text/plain": [
       "YearsExperience        13.5\n",
       "Salary             139465.0\n",
       "dtype: float64"
      ]
     },
     "execution_count": 47,
     "metadata": {},
     "output_type": "execute_result"
    }
   ],
   "source": [
    "\n",
    "df.max() # Maximum salary "
   ]
  },
  {
   "cell_type": "markdown",
   "metadata": {},
   "source": [
    "# Perform EDA & Visualisations "
   ]
  },
  {
   "cell_type": "markdown",
   "metadata": {},
   "source": [
    "## Checking for NULl Values "
   ]
  },
  {
   "cell_type": "code",
   "execution_count": 48,
   "metadata": {
    "tags": []
   },
   "outputs": [
    {
     "data": {
      "text/plain": [
       "<matplotlib.axes._subplots.AxesSubplot at 0x7fa1bb7efb90>"
      ]
     },
     "execution_count": 48,
     "metadata": {},
     "output_type": "execute_result"
    },
    {
     "data": {
      "image/png": "[encoded data removed]",
      "text/plain": [
       "<Figure size 640x480 with 1 Axes>"
      ]
     },
     "metadata": {},
     "output_type": "display_data"
    }
   ],
   "source": [
    "sns.heatmap(df.isnull(), yticklabels = False , cbar = False, cmap =\"Reds\") # creating heatmap "
   ]
  },
  {
   "cell_type": "code",
   "execution_count": 49,
   "metadata": {
    "tags": []
   },
   "outputs": [
    {
     "data": {
      "text/plain": [
       "YearsExperience    0\n",
       "Salary             0\n",
       "dtype: int64"
      ]
     },
     "execution_count": 49,
     "metadata": {},
     "output_type": "execute_result"
    }
   ],
   "source": [
    "df.isnull().sum() # Null Values "
   ]
  },
  {
   "cell_type": "code",
   "execution_count": 50,
   "metadata": {
    "tags": []
   },
   "outputs": [
    {
     "name": "stdout",
     "output_type": "stream",
     "text": [
      "<class 'pandas.core.frame.DataFrame'>\n",
      "RangeIndex: 35 entries, 0 to 34\n",
      "Data columns (total 2 columns):\n",
      " #   Column           Non-Null Count  Dtype  \n",
      "---  ------           --------------  -----  \n",
      " 0   YearsExperience  35 non-null     float64\n",
      " 1   Salary           35 non-null     int64  \n",
      "dtypes: float64(1), int64(1)\n",
      "memory usage: 688.0 bytes\n"
     ]
    }
   ],
   "source": [
    "df.info() # Information about the dataset "
   ]
  },
  {
   "cell_type": "code",
   "execution_count": 51,
   "metadata": {
    "tags": []
   },
   "outputs": [
    {
     "data": {
      "text/html": [
       "<div>\n",
       "<style scoped>\n",
       "    .dataframe tbody tr th:only-of-type {\n",
       "        vertical-align: middle;\n",
       "    }\n",
       "\n",
       "    .dataframe tbody tr th {\n",
       "        vertical-align: top;\n",
       "    }\n",
       "\n",
       "    .dataframe thead th {\n",
       "        text-align: right;\n",
       "    }\n",
       "</style>\n",
       "<table border=\"1\" class=\"dataframe\">\n",
       "  <thead>\n",
       "    <tr style=\"text-align: right;\">\n",
       "      <th></th>\n",
       "      <th>YearsExperience</th>\n",
       "      <th>Salary</th>\n",
       "    </tr>\n",
       "  </thead>\n",
       "  <tbody>\n",
       "    <tr>\n",
       "      <th>count</th>\n",
       "      <td>35.000000</td>\n",
       "      <td>35.000000</td>\n",
       "    </tr>\n",
       "    <tr>\n",
       "      <th>mean</th>\n",
       "      <td>6.308571</td>\n",
       "      <td>83945.600000</td>\n",
       "    </tr>\n",
       "    <tr>\n",
       "      <th>std</th>\n",
       "      <td>3.618610</td>\n",
       "      <td>32162.673003</td>\n",
       "    </tr>\n",
       "    <tr>\n",
       "      <th>min</th>\n",
       "      <td>1.100000</td>\n",
       "      <td>37731.000000</td>\n",
       "    </tr>\n",
       "    <tr>\n",
       "      <th>25%</th>\n",
       "      <td>3.450000</td>\n",
       "      <td>57019.000000</td>\n",
       "    </tr>\n",
       "    <tr>\n",
       "      <th>50%</th>\n",
       "      <td>5.300000</td>\n",
       "      <td>81363.000000</td>\n",
       "    </tr>\n",
       "    <tr>\n",
       "      <th>75%</th>\n",
       "      <td>9.250000</td>\n",
       "      <td>113223.500000</td>\n",
       "    </tr>\n",
       "    <tr>\n",
       "      <th>max</th>\n",
       "      <td>13.500000</td>\n",
       "      <td>139465.000000</td>\n",
       "    </tr>\n",
       "  </tbody>\n",
       "</table>\n",
       "</div>"
      ],
      "text/plain": [
       "       YearsExperience         Salary\n",
       "count        35.000000      35.000000\n",
       "mean          6.308571   83945.600000\n",
       "std           3.618610   32162.673003\n",
       "min           1.100000   37731.000000\n",
       "25%           3.450000   57019.000000\n",
       "50%           5.300000   81363.000000\n",
       "75%           9.250000  113223.500000\n",
       "max          13.500000  139465.000000"
      ]
     },
     "execution_count": 51,
     "metadata": {},
     "output_type": "execute_result"
    }
   ],
   "source": [
    "df.describe() # statical summary of dataframe"
   ]
  },
  {
   "cell_type": "code",
   "execution_count": 52,
   "metadata": {
    "tags": []
   },
   "outputs": [],
   "source": [
    "max = df[df['Salary'] == df['Salary'].max()] # MAX Salry with Experience"
   ]
  },
  {
   "cell_type": "code",
   "execution_count": 53,
   "metadata": {
    "tags": []
   },
   "outputs": [
    {
     "data": {
      "text/html": [
       "<div>\n",
       "<style scoped>\n",
       "    .dataframe tbody tr th:only-of-type {\n",
       "        vertical-align: middle;\n",
       "    }\n",
       "\n",
       "    .dataframe tbody tr th {\n",
       "        vertical-align: top;\n",
       "    }\n",
       "\n",
       "    .dataframe thead th {\n",
       "        text-align: right;\n",
       "    }\n",
       "</style>\n",
       "<table border=\"1\" class=\"dataframe\">\n",
       "  <thead>\n",
       "    <tr style=\"text-align: right;\">\n",
       "      <th></th>\n",
       "      <th>YearsExperience</th>\n",
       "      <th>Salary</th>\n",
       "    </tr>\n",
       "  </thead>\n",
       "  <tbody>\n",
       "    <tr>\n",
       "      <th>34</th>\n",
       "      <td>13.5</td>\n",
       "      <td>139465</td>\n",
       "    </tr>\n",
       "  </tbody>\n",
       "</table>\n",
       "</div>"
      ],
      "text/plain": [
       "    YearsExperience  Salary\n",
       "34             13.5  139465"
      ]
     },
     "execution_count": 53,
     "metadata": {},
     "output_type": "execute_result"
    }
   ],
   "source": [
    "max"
   ]
  },
  {
   "cell_type": "code",
   "execution_count": 54,
   "metadata": {
    "tags": []
   },
   "outputs": [
    {
     "data": {
      "text/plain": [
       "YearsExperience        1.1\n",
       "Salary             37731.0\n",
       "dtype: float64"
      ]
     },
     "execution_count": 54,
     "metadata": {},
     "output_type": "execute_result"
    }
   ],
   "source": [
    "df.min() # min command can be used "
   ]
  },
  {
   "cell_type": "code",
   "execution_count": 55,
   "metadata": {
    "tags": []
   },
   "outputs": [
    {
     "data": {
      "text/html": [
       "<div>\n",
       "<style scoped>\n",
       "    .dataframe tbody tr th:only-of-type {\n",
       "        vertical-align: middle;\n",
       "    }\n",
       "\n",
       "    .dataframe tbody tr th {\n",
       "        vertical-align: top;\n",
       "    }\n",
       "\n",
       "    .dataframe thead th {\n",
       "        text-align: right;\n",
       "    }\n",
       "</style>\n",
       "<table border=\"1\" class=\"dataframe\">\n",
       "  <thead>\n",
       "    <tr style=\"text-align: right;\">\n",
       "      <th></th>\n",
       "      <th>YearsExperience</th>\n",
       "      <th>Salary</th>\n",
       "    </tr>\n",
       "  </thead>\n",
       "  <tbody>\n",
       "    <tr>\n",
       "      <th>2</th>\n",
       "      <td>1.5</td>\n",
       "      <td>37731</td>\n",
       "    </tr>\n",
       "  </tbody>\n",
       "</table>\n",
       "</div>"
      ],
      "text/plain": [
       "   YearsExperience  Salary\n",
       "2              1.5   37731"
      ]
     },
     "execution_count": 55,
     "metadata": {},
     "output_type": "execute_result"
    }
   ],
   "source": [
    "min = df[df['Salary'] == df['Salary'].min()]\n",
    "min # Get min salary with experience "
   ]
  },
  {
   "cell_type": "markdown",
   "metadata": {},
   "source": [
    "### Plot Histogram"
   ]
  },
  {
   "cell_type": "code",
   "execution_count": 56,
   "metadata": {
    "tags": []
   },
   "outputs": [
    {
     "data": {
      "text/plain": [
       "array([[<matplotlib.axes._subplots.AxesSubplot object at 0x7fa1bc6b9990>,\n",
       "        <matplotlib.axes._subplots.AxesSubplot object at 0x7fa1bc7a8090>]],\n",
       "      dtype=object)"
      ]
     },
     "execution_count": 56,
     "metadata": {},
     "output_type": "execute_result"
    },
    {
     "data": {
      "image/png": "[encoded data removed]",
      "text/plain": [
       "<Figure size 2000x1000 with 2 Axes>"
      ]
     },
     "metadata": {},
     "output_type": "display_data"
    }
   ],
   "source": [
    "df.hist(bins = 30, figsize = (20,10), color = 'r') # Histogram"
   ]
  },
  {
   "cell_type": "code",
   "execution_count": 57,
   "metadata": {
    "tags": []
   },
   "outputs": [
    {
     "data": {
      "text/plain": [
       "<seaborn.axisgrid.PairGrid at 0x7fa1bb78b210>"
      ]
     },
     "execution_count": 57,
     "metadata": {},
     "output_type": "execute_result"
    },
    {
     "data": {
      "image/png": "[encoded data removed]",
      "text/plain": [
       "<Figure size 500x500 with 6 Axes>"
      ]
     },
     "metadata": {},
     "output_type": "display_data"
    }
   ],
   "source": [
    "sns.pairplot(df) # plot the pairplot , scatter plot "
   ]
  },
  {
   "cell_type": "code",
   "execution_count": 58,
   "metadata": {
    "tags": []
   },
   "outputs": [
    {
     "data": {
      "image/png": "[encoded data removed]",
      "text/plain": [
       "<Figure size 640x480 with 2 Axes>"
      ]
     },
     "metadata": {},
     "output_type": "display_data"
    }
   ],
   "source": [
    "corr_matrix = df.corr()\n",
    "sns.heatmap(corr_matrix, annot = True) # corr matrix visualization to see the correlation \n",
    "plt.show()"
   ]
  },
  {
   "cell_type": "code",
   "execution_count": 59,
   "metadata": {
    "tags": []
   },
   "outputs": [
    {
     "data": {
      "text/plain": [
       "<matplotlib.axes._subplots.AxesSubplot at 0x7fa1bb4d7b10>"
      ]
     },
     "execution_count": 59,
     "metadata": {},
     "output_type": "execute_result"
    },
    {
     "data": {
      "image/png": "[encoded data removed]",
      "text/plain": [
       "<Figure size 640x480 with 1 Axes>"
      ]
     },
     "metadata": {},
     "output_type": "display_data"
    }
   ],
   "source": [
    "sns.regplot(x = 'YearsExperience' , y = 'Salary', data = df) # using of regplot to see the best fit line "
   ]
  },
  {
   "cell_type": "code",
   "execution_count": 60,
   "metadata": {
    "tags": []
   },
   "outputs": [
    {
     "data": {
      "image/png": "[encoded data removed]",
      "text/plain": [
       "<Figure size 640x480 with 1 Axes>"
      ]
     },
     "metadata": {},
     "output_type": "display_data"
    }
   ],
   "source": [
    "plt.scatter( df['YearsExperience'] ,df['Salary'] ) # Regplot another represtenation \n",
    "plt.xlabel('Year of Exp') \n",
    "plt.ylabel('Salary')\n",
    "plt.show()"
   ]
  },
  {
   "cell_type": "markdown",
   "metadata": {},
   "source": [
    "## Preparing training and testing data "
   ]
  },
  {
   "cell_type": "code",
   "execution_count": 61,
   "metadata": {
    "tags": []
   },
   "outputs": [],
   "source": [
    "X = df[['YearsExperience']]\n",
    "y = df[['Salary']]"
   ]
  },
  {
   "cell_type": "code",
   "execution_count": 62,
   "metadata": {
    "tags": []
   },
   "outputs": [
    {
     "data": {
      "text/html": [
       "<div>\n",
       "<style scoped>\n",
       "    .dataframe tbody tr th:only-of-type {\n",
       "        vertical-align: middle;\n",
       "    }\n",
       "\n",
       "    .dataframe tbody tr th {\n",
       "        vertical-align: top;\n",
       "    }\n",
       "\n",
       "    .dataframe thead th {\n",
       "        text-align: right;\n",
       "    }\n",
       "</style>\n",
       "<table border=\"1\" class=\"dataframe\">\n",
       "  <thead>\n",
       "    <tr style=\"text-align: right;\">\n",
       "      <th></th>\n",
       "      <th>YearsExperience</th>\n",
       "    </tr>\n",
       "  </thead>\n",
       "  <tbody>\n",
       "    <tr>\n",
       "      <th>0</th>\n",
       "      <td>1.1</td>\n",
       "    </tr>\n",
       "    <tr>\n",
       "      <th>1</th>\n",
       "      <td>1.3</td>\n",
       "    </tr>\n",
       "    <tr>\n",
       "      <th>2</th>\n",
       "      <td>1.5</td>\n",
       "    </tr>\n",
       "    <tr>\n",
       "      <th>3</th>\n",
       "      <td>2.0</td>\n",
       "    </tr>\n",
       "    <tr>\n",
       "      <th>4</th>\n",
       "      <td>2.2</td>\n",
       "    </tr>\n",
       "    <tr>\n",
       "      <th>5</th>\n",
       "      <td>2.9</td>\n",
       "    </tr>\n",
       "    <tr>\n",
       "      <th>6</th>\n",
       "      <td>3.0</td>\n",
       "    </tr>\n",
       "    <tr>\n",
       "      <th>7</th>\n",
       "      <td>3.2</td>\n",
       "    </tr>\n",
       "    <tr>\n",
       "      <th>8</th>\n",
       "      <td>3.2</td>\n",
       "    </tr>\n",
       "    <tr>\n",
       "      <th>9</th>\n",
       "      <td>3.7</td>\n",
       "    </tr>\n",
       "    <tr>\n",
       "      <th>10</th>\n",
       "      <td>3.9</td>\n",
       "    </tr>\n",
       "    <tr>\n",
       "      <th>11</th>\n",
       "      <td>4.0</td>\n",
       "    </tr>\n",
       "    <tr>\n",
       "      <th>12</th>\n",
       "      <td>4.0</td>\n",
       "    </tr>\n",
       "    <tr>\n",
       "      <th>13</th>\n",
       "      <td>4.1</td>\n",
       "    </tr>\n",
       "    <tr>\n",
       "      <th>14</th>\n",
       "      <td>4.5</td>\n",
       "    </tr>\n",
       "    <tr>\n",
       "      <th>15</th>\n",
       "      <td>4.9</td>\n",
       "    </tr>\n",
       "    <tr>\n",
       "      <th>16</th>\n",
       "      <td>5.1</td>\n",
       "    </tr>\n",
       "    <tr>\n",
       "      <th>17</th>\n",
       "      <td>5.3</td>\n",
       "    </tr>\n",
       "    <tr>\n",
       "      <th>18</th>\n",
       "      <td>5.9</td>\n",
       "    </tr>\n",
       "    <tr>\n",
       "      <th>19</th>\n",
       "      <td>6.0</td>\n",
       "    </tr>\n",
       "    <tr>\n",
       "      <th>20</th>\n",
       "      <td>6.8</td>\n",
       "    </tr>\n",
       "    <tr>\n",
       "      <th>21</th>\n",
       "      <td>7.1</td>\n",
       "    </tr>\n",
       "    <tr>\n",
       "      <th>22</th>\n",
       "      <td>7.9</td>\n",
       "    </tr>\n",
       "    <tr>\n",
       "      <th>23</th>\n",
       "      <td>8.2</td>\n",
       "    </tr>\n",
       "    <tr>\n",
       "      <th>24</th>\n",
       "      <td>8.7</td>\n",
       "    </tr>\n",
       "    <tr>\n",
       "      <th>25</th>\n",
       "      <td>9.0</td>\n",
       "    </tr>\n",
       "    <tr>\n",
       "      <th>26</th>\n",
       "      <td>9.5</td>\n",
       "    </tr>\n",
       "    <tr>\n",
       "      <th>27</th>\n",
       "      <td>9.6</td>\n",
       "    </tr>\n",
       "    <tr>\n",
       "      <th>28</th>\n",
       "      <td>10.3</td>\n",
       "    </tr>\n",
       "    <tr>\n",
       "      <th>29</th>\n",
       "      <td>10.5</td>\n",
       "    </tr>\n",
       "    <tr>\n",
       "      <th>30</th>\n",
       "      <td>11.2</td>\n",
       "    </tr>\n",
       "    <tr>\n",
       "      <th>31</th>\n",
       "      <td>11.5</td>\n",
       "    </tr>\n",
       "    <tr>\n",
       "      <th>32</th>\n",
       "      <td>12.3</td>\n",
       "    </tr>\n",
       "    <tr>\n",
       "      <th>33</th>\n",
       "      <td>12.9</td>\n",
       "    </tr>\n",
       "    <tr>\n",
       "      <th>34</th>\n",
       "      <td>13.5</td>\n",
       "    </tr>\n",
       "  </tbody>\n",
       "</table>\n",
       "</div>"
      ],
      "text/plain": [
       "    YearsExperience\n",
       "0               1.1\n",
       "1               1.3\n",
       "2               1.5\n",
       "3               2.0\n",
       "4               2.2\n",
       "5               2.9\n",
       "6               3.0\n",
       "7               3.2\n",
       "8               3.2\n",
       "9               3.7\n",
       "10              3.9\n",
       "11              4.0\n",
       "12              4.0\n",
       "13              4.1\n",
       "14              4.5\n",
       "15              4.9\n",
       "16              5.1\n",
       "17              5.3\n",
       "18              5.9\n",
       "19              6.0\n",
       "20              6.8\n",
       "21              7.1\n",
       "22              7.9\n",
       "23              8.2\n",
       "24              8.7\n",
       "25              9.0\n",
       "26              9.5\n",
       "27              9.6\n",
       "28             10.3\n",
       "29             10.5\n",
       "30             11.2\n",
       "31             11.5\n",
       "32             12.3\n",
       "33             12.9\n",
       "34             13.5"
      ]
     },
     "execution_count": 62,
     "metadata": {},
     "output_type": "execute_result"
    }
   ],
   "source": [
    "X #independent variable "
   ]
  },
  {
   "cell_type": "code",
   "execution_count": 63,
   "metadata": {
    "tags": []
   },
   "outputs": [
    {
     "data": {
      "text/html": [
       "<div>\n",
       "<style scoped>\n",
       "    .dataframe tbody tr th:only-of-type {\n",
       "        vertical-align: middle;\n",
       "    }\n",
       "\n",
       "    .dataframe tbody tr th {\n",
       "        vertical-align: top;\n",
       "    }\n",
       "\n",
       "    .dataframe thead th {\n",
       "        text-align: right;\n",
       "    }\n",
       "</style>\n",
       "<table border=\"1\" class=\"dataframe\">\n",
       "  <thead>\n",
       "    <tr style=\"text-align: right;\">\n",
       "      <th></th>\n",
       "      <th>Salary</th>\n",
       "    </tr>\n",
       "  </thead>\n",
       "  <tbody>\n",
       "    <tr>\n",
       "      <th>0</th>\n",
       "      <td>39343</td>\n",
       "    </tr>\n",
       "    <tr>\n",
       "      <th>1</th>\n",
       "      <td>46205</td>\n",
       "    </tr>\n",
       "    <tr>\n",
       "      <th>2</th>\n",
       "      <td>37731</td>\n",
       "    </tr>\n",
       "    <tr>\n",
       "      <th>3</th>\n",
       "      <td>43525</td>\n",
       "    </tr>\n",
       "    <tr>\n",
       "      <th>4</th>\n",
       "      <td>39891</td>\n",
       "    </tr>\n",
       "    <tr>\n",
       "      <th>5</th>\n",
       "      <td>56642</td>\n",
       "    </tr>\n",
       "    <tr>\n",
       "      <th>6</th>\n",
       "      <td>60150</td>\n",
       "    </tr>\n",
       "    <tr>\n",
       "      <th>7</th>\n",
       "      <td>54445</td>\n",
       "    </tr>\n",
       "    <tr>\n",
       "      <th>8</th>\n",
       "      <td>64445</td>\n",
       "    </tr>\n",
       "    <tr>\n",
       "      <th>9</th>\n",
       "      <td>57189</td>\n",
       "    </tr>\n",
       "    <tr>\n",
       "      <th>10</th>\n",
       "      <td>63218</td>\n",
       "    </tr>\n",
       "    <tr>\n",
       "      <th>11</th>\n",
       "      <td>55794</td>\n",
       "    </tr>\n",
       "    <tr>\n",
       "      <th>12</th>\n",
       "      <td>56957</td>\n",
       "    </tr>\n",
       "    <tr>\n",
       "      <th>13</th>\n",
       "      <td>57081</td>\n",
       "    </tr>\n",
       "    <tr>\n",
       "      <th>14</th>\n",
       "      <td>61111</td>\n",
       "    </tr>\n",
       "    <tr>\n",
       "      <th>15</th>\n",
       "      <td>67938</td>\n",
       "    </tr>\n",
       "    <tr>\n",
       "      <th>16</th>\n",
       "      <td>66029</td>\n",
       "    </tr>\n",
       "    <tr>\n",
       "      <th>17</th>\n",
       "      <td>83088</td>\n",
       "    </tr>\n",
       "    <tr>\n",
       "      <th>18</th>\n",
       "      <td>81363</td>\n",
       "    </tr>\n",
       "    <tr>\n",
       "      <th>19</th>\n",
       "      <td>93940</td>\n",
       "    </tr>\n",
       "    <tr>\n",
       "      <th>20</th>\n",
       "      <td>91738</td>\n",
       "    </tr>\n",
       "    <tr>\n",
       "      <th>21</th>\n",
       "      <td>98273</td>\n",
       "    </tr>\n",
       "    <tr>\n",
       "      <th>22</th>\n",
       "      <td>101302</td>\n",
       "    </tr>\n",
       "    <tr>\n",
       "      <th>23</th>\n",
       "      <td>113812</td>\n",
       "    </tr>\n",
       "    <tr>\n",
       "      <th>24</th>\n",
       "      <td>109431</td>\n",
       "    </tr>\n",
       "    <tr>\n",
       "      <th>25</th>\n",
       "      <td>105582</td>\n",
       "    </tr>\n",
       "    <tr>\n",
       "      <th>26</th>\n",
       "      <td>116969</td>\n",
       "    </tr>\n",
       "    <tr>\n",
       "      <th>27</th>\n",
       "      <td>112635</td>\n",
       "    </tr>\n",
       "    <tr>\n",
       "      <th>28</th>\n",
       "      <td>122391</td>\n",
       "    </tr>\n",
       "    <tr>\n",
       "      <th>29</th>\n",
       "      <td>121872</td>\n",
       "    </tr>\n",
       "    <tr>\n",
       "      <th>30</th>\n",
       "      <td>127345</td>\n",
       "    </tr>\n",
       "    <tr>\n",
       "      <th>31</th>\n",
       "      <td>126756</td>\n",
       "    </tr>\n",
       "    <tr>\n",
       "      <th>32</th>\n",
       "      <td>128765</td>\n",
       "    </tr>\n",
       "    <tr>\n",
       "      <th>33</th>\n",
       "      <td>135675</td>\n",
       "    </tr>\n",
       "    <tr>\n",
       "      <th>34</th>\n",
       "      <td>139465</td>\n",
       "    </tr>\n",
       "  </tbody>\n",
       "</table>\n",
       "</div>"
      ],
      "text/plain": [
       "    Salary\n",
       "0    39343\n",
       "1    46205\n",
       "2    37731\n",
       "3    43525\n",
       "4    39891\n",
       "5    56642\n",
       "6    60150\n",
       "7    54445\n",
       "8    64445\n",
       "9    57189\n",
       "10   63218\n",
       "11   55794\n",
       "12   56957\n",
       "13   57081\n",
       "14   61111\n",
       "15   67938\n",
       "16   66029\n",
       "17   83088\n",
       "18   81363\n",
       "19   93940\n",
       "20   91738\n",
       "21   98273\n",
       "22  101302\n",
       "23  113812\n",
       "24  109431\n",
       "25  105582\n",
       "26  116969\n",
       "27  112635\n",
       "28  122391\n",
       "29  121872\n",
       "30  127345\n",
       "31  126756\n",
       "32  128765\n",
       "33  135675\n",
       "34  139465"
      ]
     },
     "execution_count": 63,
     "metadata": {},
     "output_type": "execute_result"
    }
   ],
   "source": [
    "y # dependent variable "
   ]
  },
  {
   "cell_type": "code",
   "execution_count": 64,
   "metadata": {
    "tags": []
   },
   "outputs": [
    {
     "data": {
      "text/plain": [
       "(35, 1)"
      ]
     },
     "execution_count": 64,
     "metadata": {},
     "output_type": "execute_result"
    }
   ],
   "source": [
    "X.shape"
   ]
  },
  {
   "cell_type": "code",
   "execution_count": 65,
   "metadata": {
    "tags": []
   },
   "outputs": [
    {
     "data": {
      "text/plain": [
       "(35, 1)"
      ]
     },
     "execution_count": 65,
     "metadata": {},
     "output_type": "execute_result"
    }
   ],
   "source": [
    "y.shape"
   ]
  },
  {
   "cell_type": "code",
   "execution_count": 66,
   "metadata": {
    "tags": []
   },
   "outputs": [],
   "source": [
    "X = np.array(X).astype('float32')\n",
    "y = np.array(y).astype('float32')"
   ]
  },
  {
   "cell_type": "code",
   "execution_count": 67,
   "metadata": {
    "tags": []
   },
   "outputs": [
    {
     "data": {
      "text/plain": [
       "array([[ 1.1],\n",
       "       [ 1.3],\n",
       "       [ 1.5],\n",
       "       [ 2. ],\n",
       "       [ 2.2],\n",
       "       [ 2.9],\n",
       "       [ 3. ],\n",
       "       [ 3.2],\n",
       "       [ 3.2],\n",
       "       [ 3.7],\n",
       "       [ 3.9],\n",
       "       [ 4. ],\n",
       "       [ 4. ],\n",
       "       [ 4.1],\n",
       "       [ 4.5],\n",
       "       [ 4.9],\n",
       "       [ 5.1],\n",
       "       [ 5.3],\n",
       "       [ 5.9],\n",
       "       [ 6. ],\n",
       "       [ 6.8],\n",
       "       [ 7.1],\n",
       "       [ 7.9],\n",
       "       [ 8.2],\n",
       "       [ 8.7],\n",
       "       [ 9. ],\n",
       "       [ 9.5],\n",
       "       [ 9.6],\n",
       "       [10.3],\n",
       "       [10.5],\n",
       "       [11.2],\n",
       "       [11.5],\n",
       "       [12.3],\n",
       "       [12.9],\n",
       "       [13.5]], dtype=float32)"
      ]
     },
     "execution_count": 67,
     "metadata": {},
     "output_type": "execute_result"
    }
   ],
   "source": [
    "X"
   ]
  },
  {
   "cell_type": "code",
   "execution_count": 68,
   "metadata": {
    "tags": []
   },
   "outputs": [
    {
     "data": {
      "text/plain": [
       "array([[ 39343.],\n",
       "       [ 46205.],\n",
       "       [ 37731.],\n",
       "       [ 43525.],\n",
       "       [ 39891.],\n",
       "       [ 56642.],\n",
       "       [ 60150.],\n",
       "       [ 54445.],\n",
       "       [ 64445.],\n",
       "       [ 57189.],\n",
       "       [ 63218.],\n",
       "       [ 55794.],\n",
       "       [ 56957.],\n",
       "       [ 57081.],\n",
       "       [ 61111.],\n",
       "       [ 67938.],\n",
       "       [ 66029.],\n",
       "       [ 83088.],\n",
       "       [ 81363.],\n",
       "       [ 93940.],\n",
       "       [ 91738.],\n",
       "       [ 98273.],\n",
       "       [101302.],\n",
       "       [113812.],\n",
       "       [109431.],\n",
       "       [105582.],\n",
       "       [116969.],\n",
       "       [112635.],\n",
       "       [122391.],\n",
       "       [121872.],\n",
       "       [127345.],\n",
       "       [126756.],\n",
       "       [128765.],\n",
       "       [135675.],\n",
       "       [139465.]], dtype=float32)"
      ]
     },
     "execution_count": 68,
     "metadata": {},
     "output_type": "execute_result"
    }
   ],
   "source": [
    "y"
   ]
  },
  {
   "cell_type": "markdown",
   "metadata": {},
   "source": [
    "## Split data into train and test"
   ]
  },
  {
   "cell_type": "code",
   "execution_count": 42,
   "metadata": {
    "tags": []
   },
   "outputs": [
    {
     "data": {
      "text/plain": [
       "((26, 1), (9, 1), (26, 1), (9, 1))"
      ]
     },
     "execution_count": 42,
     "metadata": {},
     "output_type": "execute_result"
    }
   ],
   "source": [
    "X_train , X_test , y_train , y_test = train_test_split(X,y,test_size=0.25) # 75% for training and rest for test\n",
    "X_train.shape , X_test.shape , y_train.shape , y_test.shape # Getting the shape "
   ]
  },
  {
   "cell_type": "markdown",
   "metadata": {},
   "source": [
    "## Train Linear Regression Model in SK-Learn"
   ]
  },
  {
   "cell_type": "code",
   "execution_count": 71,
   "metadata": {
    "tags": []
   },
   "outputs": [
    {
     "data": {
      "text/plain": [
       "LinearRegression(copy_X=True, fit_intercept=True, n_jobs=None, normalize=False)"
      ]
     },
     "execution_count": 71,
     "metadata": {},
     "output_type": "execute_result"
    }
   ],
   "source": [
    "regression_model_sklearn = LinearRegression(fit_intercept =True)\n",
    "regression_model_sklearn.fit(X_train, y_train) "
   ]
  },
  {
   "cell_type": "code",
   "execution_count": 72,
   "metadata": {
    "tags": []
   },
   "outputs": [
    {
     "data": {
      "text/plain": [
       "0.967464705872589"
      ]
     },
     "execution_count": 72,
     "metadata": {},
     "output_type": "execute_result"
    }
   ],
   "source": [
    "regression_model_sklearn_accuracy = regression_model_sklearn.score(X_test, y_test)\n",
    "regression_model_sklearn_accuracy "
   ]
  },
  {
   "cell_type": "code",
   "execution_count": 74,
   "metadata": {
    "tags": []
   },
   "outputs": [
    {
     "name": "stdout",
     "output_type": "stream",
     "text": [
      "Linear Model Cofficient (m):  [[8736.332]]\n",
      "Linear Model Cofficient (c):  [29840.117]\n"
     ]
    }
   ],
   "source": [
    "print('Linear Model Cofficient (m): ',regression_model_sklearn.coef_)\n",
    "print('Linear Model Cofficient (c): ',regression_model_sklearn.intercept_)"
   ]
  },
  {
   "cell_type": "markdown",
   "metadata": {},
   "source": [
    "## Trained Model Performance "
   ]
  },
  {
   "cell_type": "code",
   "execution_count": 75,
   "metadata": {
    "scrolled": true,
    "tags": []
   },
   "outputs": [],
   "source": [
    "y_predict = regression_model_sklearn.predict(X_test)"
   ]
  },
  {
   "cell_type": "code",
   "execution_count": 76,
   "metadata": {
    "tags": []
   },
   "outputs": [
    {
     "data": {
      "text/plain": [
       "array([[130307.94 ],\n",
       "       [ 74395.41 ],\n",
       "       [ 81384.48 ],\n",
       "       [ 55175.48 ],\n",
       "       [ 41197.348],\n",
       "       [ 42944.617],\n",
       "       [142538.8  ],\n",
       "       [ 49060.047],\n",
       "       [ 65659.08 ]], dtype=float32)"
      ]
     },
     "execution_count": 76,
     "metadata": {},
     "output_type": "execute_result"
    }
   ],
   "source": [
    "y_predict"
   ]
  },
  {
   "cell_type": "code",
   "execution_count": 77,
   "metadata": {
    "tags": []
   },
   "outputs": [
    {
     "data": {
      "text/plain": [
       "Text(0.5, 1.0, 'Salary Vs Number of years experience')"
      ]
     },
     "execution_count": 77,
     "metadata": {},
     "output_type": "execute_result"
    },
    {
     "data": {
      "image/png": "[encoded data removed]",
      "text/plain": [
       "<Figure size 640x480 with 1 Axes>"
      ]
     },
     "metadata": {},
     "output_type": "display_data"
    }
   ],
   "source": [
    "plt.scatter(X_train, y_train , color ='red') # scatter plot \n",
    "plt.plot(X_train, regression_model_sklearn.predict(X_train) , color ='gray')\n",
    "plt.ylabel('Salary')\n",
    "plt.xlabel('Number of years experience')\n",
    "plt.title('Salary Vs Number of years experience')"
   ]
  },
  {
   "cell_type": "code",
   "execution_count": 78,
   "metadata": {
    "tags": []
   },
   "outputs": [],
   "source": [
    "num_years_exp = [[5]] # Five year of experience "
   ]
  },
  {
   "cell_type": "code",
   "execution_count": 79,
   "metadata": {
    "tags": []
   },
   "outputs": [],
   "source": [
    "salary = regression_model_sklearn.predict(num_years_exp) # See the prediction on experience "
   ]
  },
  {
   "cell_type": "code",
   "execution_count": 80,
   "metadata": {
    "tags": []
   },
   "outputs": [
    {
     "data": {
      "text/plain": [
       "array([[73521.77734375]])"
      ]
     },
     "execution_count": 80,
     "metadata": {},
     "output_type": "execute_result"
    }
   ],
   "source": [
    "salary # output "
   ]
  },
  {
   "cell_type": "markdown",
   "metadata": {},
   "source": [
    "## Train a liner learner model using SAGEMAKER"
   ]
  },
  {
   "cell_type": "code",
   "execution_count": 82,
   "metadata": {
    "tags": []
   },
   "outputs": [
    {
     "name": "stdout",
     "output_type": "stream",
     "text": [
      "arn:aws:iam::519145880970:role/service-role/AmazonSageMaker-ExecutionRole-20230325T150250\n"
     ]
    }
   ],
   "source": [
    "import sagemaker\n",
    "import boto3 # SDK for python \n",
    "\n",
    "# create sagemaker session\n",
    "sagemaker_session = sagemaker.Session()\n",
    "\n",
    "bucket = 'sagemaker-practical-utkarsh' # naming the bucket \n",
    "prefix = 'linear_learner' #Subfolder in the bucket \n",
    "\n",
    "role = sagemaker.get_execution_role() # IAM role setting , execution role \n",
    "print(role)"
   ]
  },
  {
   "cell_type": "code",
   "execution_count": 83,
   "metadata": {
    "tags": []
   },
   "outputs": [
    {
     "data": {
      "text/plain": [
       "(26, 1)"
      ]
     },
     "execution_count": 83,
     "metadata": {},
     "output_type": "execute_result"
    }
   ],
   "source": [
    "X_train.shape"
   ]
  },
  {
   "cell_type": "code",
   "execution_count": 84,
   "metadata": {
    "tags": []
   },
   "outputs": [
    {
     "data": {
      "text/plain": [
       "(26, 1)"
      ]
     },
     "execution_count": 84,
     "metadata": {},
     "output_type": "execute_result"
    }
   ],
   "source": [
    "y_train.shape"
   ]
  },
  {
   "cell_type": "code",
   "execution_count": 85,
   "metadata": {
    "tags": []
   },
   "outputs": [],
   "source": [
    "y_train = y_train[:,0]"
   ]
  },
  {
   "cell_type": "code",
   "execution_count": 86,
   "metadata": {
    "tags": []
   },
   "outputs": [
    {
     "data": {
      "text/plain": [
       "(26,)"
      ]
     },
     "execution_count": 86,
     "metadata": {},
     "output_type": "execute_result"
    }
   ],
   "source": [
    "y_train.shape"
   ]
  },
  {
   "cell_type": "code",
   "execution_count": 87,
   "metadata": {
    "tags": []
   },
   "outputs": [
    {
     "data": {
      "text/plain": [
       "0"
      ]
     },
     "execution_count": 87,
     "metadata": {},
     "output_type": "execute_result"
    }
   ],
   "source": [
    "import io # deals with various input ouput data such as text ,binary,raw\n",
    "import numpy as np \n",
    "import sagemaker.amazon.common as smac # sagemaker lib \n",
    "#converts the data into the numpy array to recordIO  format whuch is required by sagemaker liner learner \n",
    "buf = io.BytesIO() # it increments 1 everytime you write it \n",
    "smac.write_numpy_to_dense_tensor(buf, X_train, y_train)\n",
    "buf.seek(0) #reset back to zero "
   ]
  },
  {
   "cell_type": "code",
   "execution_count": 94,
   "metadata": {
    "tags": []
   },
   "outputs": [
    {
     "name": "stdout",
     "output_type": "stream",
     "text": [
      "uploaded training data location: s3://sagemaker-practical-utkarsh/linear_learner/train/linear-train-data\n"
     ]
    }
   ],
   "source": [
    "import os \n",
    "# code to upload recordIO data to s3 \n",
    "key = 'linear-train-data' # key refers name of the file \n",
    "boto3.resource('s3').Bucket(bucket).Object(os.path.join(prefix, 'train', key)).upload_fileobj(buf) #uploads the data in record io format to s3\n",
    "s3_train_data = 's3://{}/{}/train/{}'.format(bucket, prefix, key)\n",
    "\n",
    "print('uploaded training data location: {}'.format(s3_train_data)) #print training data location in s3"
   ]
  },
  {
   "cell_type": "code",
   "execution_count": 95,
   "metadata": {
    "tags": []
   },
   "outputs": [
    {
     "data": {
      "text/plain": [
       "(9, 1)"
      ]
     },
     "execution_count": 95,
     "metadata": {},
     "output_type": "execute_result"
    }
   ],
   "source": [
    "X_test.shape"
   ]
  },
  {
   "cell_type": "code",
   "execution_count": 96,
   "metadata": {
    "tags": []
   },
   "outputs": [
    {
     "data": {
      "text/plain": [
       "(9, 1)"
      ]
     },
     "execution_count": 96,
     "metadata": {},
     "output_type": "execute_result"
    }
   ],
   "source": [
    "y_test.shape"
   ]
  },
  {
   "cell_type": "code",
   "execution_count": 97,
   "metadata": {
    "tags": []
   },
   "outputs": [],
   "source": [
    "y_test = y_test[:,0] # for vector "
   ]
  },
  {
   "cell_type": "code",
   "execution_count": 98,
   "metadata": {
    "tags": []
   },
   "outputs": [
    {
     "data": {
      "text/plain": [
       "(9,)"
      ]
     },
     "execution_count": 98,
     "metadata": {},
     "output_type": "execute_result"
    }
   ],
   "source": [
    "y_test.shape"
   ]
  },
  {
   "cell_type": "code",
   "execution_count": 99,
   "metadata": {
    "tags": []
   },
   "outputs": [
    {
     "data": {
      "text/plain": [
       "array([126756.,  66029.,  81363.,  56642.,  46205.,  37731., 135675.,\n",
       "        39891.,  57081.], dtype=float32)"
      ]
     },
     "execution_count": 99,
     "metadata": {},
     "output_type": "execute_result"
    }
   ],
   "source": [
    "y_test "
   ]
  },
  {
   "cell_type": "code",
   "execution_count": 118,
   "metadata": {
    "tags": []
   },
   "outputs": [
    {
     "name": "stdout",
     "output_type": "stream",
     "text": [
      "Training artifacts will be uploaded to: s3://sagemaker-practical-utkarsh/linear_learner/output\n"
     ]
    }
   ],
   "source": [
    "output_location = 's3://{}/{}/output'.format(bucket, prefix) # create a output placeholder in s3\n",
    "print('Training artifacts will be uploaded to: {}'.format(output_location))"
   ]
  },
  {
   "cell_type": "code",
   "execution_count": 119,
   "metadata": {
    "tags": []
   },
   "outputs": [
    {
     "name": "stderr",
     "output_type": "stream",
     "text": [
      "INFO:sagemaker.image_uris:Same images used for training and inference. Defaulting to image scope: inference.\n",
      "INFO:sagemaker.image_uris:Defaulting to the only supported framework/algorithm version: 1.\n",
      "INFO:sagemaker.image_uris:Ignoring unnecessary instance type: None.\n"
     ]
    }
   ],
   "source": [
    "#this code is used to get the training container of sagemaker built-in algo.simply specifiy the name of the algo.\n",
    "\n",
    " # all regression model are named as estimator \n",
    "\n",
    "import boto3\n",
    "from sagemaker.image_uris import retrieve\n",
    "\n",
    "region_name = boto3.Session().region_name\n",
    "container = retrieve(\"linear-learner\", region_name)"
   ]
  },
  {
   "cell_type": "code",
   "execution_count": 121,
   "metadata": {
    "tags": []
   },
   "outputs": [
    {
     "name": "stderr",
     "output_type": "stream",
     "text": [
      "INFO:sagemaker:Creating training-job with name: linear-learner-2023-03-25-15-23-13-934\n"
     ]
    },
    {
     "name": "stdout",
     "output_type": "stream",
     "text": [
      "2023-03-25 15:23:14 Starting - Starting the training job...\n",
      "2023-03-25 15:23:27 Starting - Preparing the instances for training......\n",
      "2023-03-25 15:24:50 Downloading - Downloading input data\n",
      "2023-03-25 15:24:50 Training - Downloading the training image.........\n",
      "2023-03-25 15:26:11 Training - Training image download completed. Training in progress..\u001b[34mDocker entrypoint called with argument(s): train\u001b[0m\n",
      "\u001b[34mRunning default environment configuration script\u001b[0m\n",
      "\u001b[34m[03/25/2023 15:26:18 INFO 139677631850304] Reading default configuration from /opt/amazon/lib/python3.7/site-packages/algorithm/resources/default-input.json: {'mini_batch_size': '1000', 'epochs': '15', 'feature_dim': 'auto', 'use_bias': 'true', 'binary_classifier_model_selection_criteria': 'accuracy', 'f_beta': '1.0', 'target_recall': '0.8', 'target_precision': '0.8', 'num_models': 'auto', 'num_calibration_samples': '10000000', 'init_method': 'uniform', 'init_scale': '0.07', 'init_sigma': '0.01', 'init_bias': '0.0', 'optimizer': 'auto', 'loss': 'auto', 'margin': '1.0', 'quantile': '0.5', 'loss_insensitivity': '0.01', 'huber_delta': '1.0', 'num_classes': '1', 'accuracy_top_k': '3', 'wd': 'auto', 'l1': 'auto', 'momentum': 'auto', 'learning_rate': 'auto', 'beta_1': 'auto', 'beta_2': 'auto', 'bias_lr_mult': 'auto', 'bias_wd_mult': 'auto', 'use_lr_scheduler': 'true', 'lr_scheduler_step': 'auto', 'lr_scheduler_factor': 'auto', 'lr_scheduler_minimum_lr': 'auto', 'positive_example_weight_mult': '1.0', 'balance_multiclass_weights': 'false', 'normalize_data': 'true', 'normalize_label': 'auto', 'unbias_data': 'auto', 'unbias_label': 'auto', 'num_point_for_scaler': '10000', '_kvstore': 'auto', '_num_gpus': 'auto', '_num_kv_servers': 'auto', '_log_level': 'info', '_tuning_objective_metric': '', 'early_stopping_patience': '3', 'early_stopping_tolerance': '0.001', '_enable_profiler': 'false'}\u001b[0m\n",
      "\u001b[34m[03/25/2023 15:26:18 INFO 139677631850304] Merging with provided configuration from /opt/ml/input/config/hyperparameters.json: {'epochs': '5', 'loss': 'absolute_loss', 'mini_batch_size': '5', 'num_models': '32', 'predictor_type': 'regressor'}\u001b[0m\n",
      "\u001b[34m[03/25/2023 15:26:18 INFO 139677631850304] Final configuration: {'mini_batch_size': '5', 'epochs': '5', 'feature_dim': 'auto', 'use_bias': 'true', 'binary_classifier_model_selection_criteria': 'accuracy', 'f_beta': '1.0', 'target_recall': '0.8', 'target_precision': '0.8', 'num_models': '32', 'num_calibration_samples': '10000000', 'init_method': 'uniform', 'init_scale': '0.07', 'init_sigma': '0.01', 'init_bias': '0.0', 'optimizer': 'auto', 'loss': 'absolute_loss', 'margin': '1.0', 'quantile': '0.5', 'loss_insensitivity': '0.01', 'huber_delta': '1.0', 'num_classes': '1', 'accuracy_top_k': '3', 'wd': 'auto', 'l1': 'auto', 'momentum': 'auto', 'learning_rate': 'auto', 'beta_1': 'auto', 'beta_2': 'auto', 'bias_lr_mult': 'auto', 'bias_wd_mult': 'auto', 'use_lr_scheduler': 'true', 'lr_scheduler_step': 'auto', 'lr_scheduler_factor': 'auto', 'lr_scheduler_minimum_lr': 'auto', 'positive_example_weight_mult': '1.0', 'balance_multiclass_weights': 'false', 'normalize_data': 'true', 'normalize_label': 'auto', 'unbias_data': 'auto', 'unbias_label': 'auto', 'num_point_for_scaler': '10000', '_kvstore': 'auto', '_num_gpus': 'auto', '_num_kv_servers': 'auto', '_log_level': 'info', '_tuning_objective_metric': '', 'early_stopping_patience': '3', 'early_stopping_tolerance': '0.001', '_enable_profiler': 'false', 'predictor_type': 'regressor'}\u001b[0m\n",
      "\u001b[34m[03/25/2023 15:26:21 WARNING 139677631850304] Loggers have already been setup.\u001b[0m\n",
      "\u001b[34m[03/25/2023 15:26:21 INFO 139677631850304] Final configuration: {'mini_batch_size': '5', 'epochs': '5', 'feature_dim': 'auto', 'use_bias': 'true', 'binary_classifier_model_selection_criteria': 'accuracy', 'f_beta': '1.0', 'target_recall': '0.8', 'target_precision': '0.8', 'num_models': '32', 'num_calibration_samples': '10000000', 'init_method': 'uniform', 'init_scale': '0.07', 'init_sigma': '0.01', 'init_bias': '0.0', 'optimizer': 'auto', 'loss': 'absolute_loss', 'margin': '1.0', 'quantile': '0.5', 'loss_insensitivity': '0.01', 'huber_delta': '1.0', 'num_classes': '1', 'accuracy_top_k': '3', 'wd': 'auto', 'l1': 'auto', 'momentum': 'auto', 'learning_rate': 'auto', 'beta_1': 'auto', 'beta_2': 'auto', 'bias_lr_mult': 'auto', 'bias_wd_mult': 'auto', 'use_lr_scheduler': 'true', 'lr_scheduler_step': 'auto', 'lr_scheduler_factor': 'auto', 'lr_scheduler_minimum_lr': 'auto', 'positive_example_weight_mult': '1.0', 'balance_multiclass_weights': 'false', 'normalize_data': 'true', 'normalize_label': 'auto', 'unbias_data': 'auto', 'unbias_label': 'auto', 'num_point_for_scaler': '10000', '_kvstore': 'auto', '_num_gpus': 'auto', '_num_kv_servers': 'auto', '_log_level': 'info', '_tuning_objective_metric': '', 'early_stopping_patience': '3', 'early_stopping_tolerance': '0.001', '_enable_profiler': 'false', 'predictor_type': 'regressor'}\u001b[0m\n",
      "\u001b[34m[03/25/2023 15:26:21 WARNING 139677631850304] Loggers have already been setup.\u001b[0m\n",
      "\u001b[34mProcess 7 is a worker.\u001b[0m\n",
      "\u001b[34m[03/25/2023 15:26:21 INFO 139677631850304] Using default worker.\u001b[0m\n",
      "\u001b[34m[03/25/2023 15:26:21 INFO 139677631850304] Checkpoint loading and saving are disabled.\u001b[0m\n",
      "\u001b[34m[2023-03-25 15:26:21.621] [tensorio] [info] epoch_stats={\"data_pipeline\": \"/opt/ml/input/data/train\", \"epoch\": 0, \"duration\": 13, \"num_examples\": 1, \"num_bytes\": 240}\u001b[0m\n",
      "\u001b[34m[03/25/2023 15:26:21 INFO 139677631850304] Create Store: local\u001b[0m\n",
      "\u001b[34m[2023-03-25 15:26:21.663] [tensorio] [info] epoch_stats={\"data_pipeline\": \"/opt/ml/input/data/train\", \"epoch\": 1, \"duration\": 41, \"num_examples\": 6, \"num_bytes\": 1248}\u001b[0m\n",
      "\u001b[34m[03/25/2023 15:26:21 INFO 139677631850304] Scaler algorithm parameters\n",
      " <algorithm.scaler.ScalerAlgorithmStable object at 0x7f08ab8fdf50>\u001b[0m\n",
      "\u001b[34m[03/25/2023 15:26:21 INFO 139677631850304] Scaling model computed with parameters:\n",
      " {'stdev_label': \u001b[0m\n",
      "\u001b[34m[29602.47]\u001b[0m\n",
      "\u001b[34m<NDArray 1 @cpu(0)>, 'stdev_weight': \u001b[0m\n",
      "\u001b[34m[3.3514512]\u001b[0m\n",
      "\u001b[34m<NDArray 1 @cpu(0)>, 'mean_label': \u001b[0m\n",
      "\u001b[34m[89350.64]\u001b[0m\n",
      "\u001b[34m<NDArray 1 @cpu(0)>, 'mean_weight': \u001b[0m\n",
      "\u001b[34m[6.776001]\u001b[0m\n",
      "\u001b[34m<NDArray 1 @cpu(0)>}\u001b[0m\n",
      "\u001b[34m[03/25/2023 15:26:21 INFO 139677631850304] nvidia-smi: took 0.032 seconds to run.\u001b[0m\n",
      "\u001b[34m[03/25/2023 15:26:21 INFO 139677631850304] nvidia-smi identified 0 GPUs.\u001b[0m\n",
      "\u001b[34m[03/25/2023 15:26:21 INFO 139677631850304] Number of GPUs being used: 0\u001b[0m\n",
      "\u001b[34m#metrics {\"StartTime\": 1679757981.7681396, \"EndTime\": 1679757981.7681746, \"Dimensions\": {\"Algorithm\": \"Linear Learner\", \"Host\": \"algo-1\", \"Operation\": \"training\", \"Meta\": \"init_train_data_iter\"}, \"Metrics\": {\"Total Records Seen\": {\"sum\": 31.0, \"count\": 1, \"min\": 31, \"max\": 31}, \"Total Batches Seen\": {\"sum\": 7.0, \"count\": 1, \"min\": 7, \"max\": 7}, \"Max Records Seen Between Resets\": {\"sum\": 26.0, \"count\": 1, \"min\": 26, \"max\": 26}, \"Max Batches Seen Between Resets\": {\"sum\": 6.0, \"count\": 1, \"min\": 6, \"max\": 6}, \"Reset Count\": {\"sum\": 2.0, \"count\": 1, \"min\": 2, \"max\": 2}, \"Number of Records Since Last Reset\": {\"sum\": 0.0, \"count\": 1, \"min\": 0, \"max\": 0}, \"Number of Batches Since Last Reset\": {\"sum\": 0.0, \"count\": 1, \"min\": 0, \"max\": 0}}}\u001b[0m\n",
      "\u001b[34m[2023-03-25 15:26:21.890] [tensorio] [info] epoch_stats={\"data_pipeline\": \"/opt/ml/input/data/train\", \"epoch\": 4, \"duration\": 121, \"num_examples\": 6, \"num_bytes\": 1248}\u001b[0m\n",
      "\u001b[34m#metrics {\"StartTime\": 1679757981.8905563, \"EndTime\": 1679757981.8906372, \"Dimensions\": {\"Algorithm\": \"Linear Learner\", \"Host\": \"algo-1\", \"Operation\": \"training\", \"epoch\": 0, \"model\": 0}, \"Metrics\": {\"train_absolute_loss_objective\": {\"sum\": 0.8935966873168946, \"count\": 1, \"min\": 0.8935966873168946, \"max\": 0.8935966873168946}}}\u001b[0m\n",
      "\u001b[34m#metrics {\"StartTime\": 1679757981.890714, \"EndTime\": 1679757981.8907354, \"Dimensions\": {\"Algorithm\": \"Linear Learner\", \"Host\": \"algo-1\", \"Operation\": \"training\", \"epoch\": 0, \"model\": 1}, \"Metrics\": {\"train_absolute_loss_objective\": {\"sum\": 0.9132338047027588, \"count\": 1, \"min\": 0.9132338047027588, \"max\": 0.9132338047027588}}}\u001b[0m\n",
      "\u001b[34m#metrics {\"StartTime\": 1679757981.8907933, \"EndTime\": 1679757981.8908124, \"Dimensions\": {\"Algorithm\": \"Linear Learner\", \"Host\": \"algo-1\", \"Operation\": \"training\", \"epoch\": 0, \"model\": 2}, \"Metrics\": {\"train_absolute_loss_objective\": {\"sum\": 0.8959755039215088, \"count\": 1, \"min\": 0.8959755039215088, \"max\": 0.8959755039215088}}}\u001b[0m\n",
      "\u001b[34m#metrics {\"StartTime\": 1679757981.8908691, \"EndTime\": 1679757981.890888, \"Dimensions\": {\"Algorithm\": \"Linear Learner\", \"Host\": \"algo-1\", \"Operation\": \"training\", \"epoch\": 0, \"model\": 3}, \"Metrics\": {\"train_absolute_loss_objective\": {\"sum\": 0.9122302627563477, \"count\": 1, \"min\": 0.9122302627563477, \"max\": 0.9122302627563477}}}\u001b[0m\n",
      "\u001b[34m#metrics {\"StartTime\": 1679757981.8909447, \"EndTime\": 1679757981.8909638, \"Dimensions\": {\"Algorithm\": \"Linear Learner\", \"Host\": \"algo-1\", \"Operation\": \"training\", \"epoch\": 0, \"model\": 4}, \"Metrics\": {\"train_absolute_loss_objective\": {\"sum\": 0.8887799072265625, \"count\": 1, \"min\": 0.8887799072265625, \"max\": 0.8887799072265625}}}\u001b[0m\n",
      "\u001b[34m#metrics {\"StartTime\": 1679757981.8910167, \"EndTime\": 1679757981.8910348, \"Dimensions\": {\"Algorithm\": \"Linear Learner\", \"Host\": \"algo-1\", \"Operation\": \"training\", \"epoch\": 0, \"model\": 5}, \"Metrics\": {\"train_absolute_loss_objective\": {\"sum\": 0.8979675483703613, \"count\": 1, \"min\": 0.8979675483703613, \"max\": 0.8979675483703613}}}\u001b[0m\n",
      "\u001b[34m#metrics {\"StartTime\": 1679757981.8910897, \"EndTime\": 1679757981.891107, \"Dimensions\": {\"Algorithm\": \"Linear Learner\", \"Host\": \"algo-1\", \"Operation\": \"training\", \"epoch\": 0, \"model\": 6}, \"Metrics\": {\"train_absolute_loss_objective\": {\"sum\": 0.9916397666931153, \"count\": 1, \"min\": 0.9916397666931153, \"max\": 0.9916397666931153}}}\u001b[0m\n",
      "\u001b[34m#metrics {\"StartTime\": 1679757981.8911602, \"EndTime\": 1679757981.891179, \"Dimensions\": {\"Algorithm\": \"Linear Learner\", \"Host\": \"algo-1\", \"Operation\": \"training\", \"epoch\": 0, \"model\": 7}, \"Metrics\": {\"train_absolute_loss_objective\": {\"sum\": 0.9624114513397217, \"count\": 1, \"min\": 0.9624114513397217, \"max\": 0.9624114513397217}}}\u001b[0m\n",
      "\u001b[34m#metrics {\"StartTime\": 1679757981.8912342, \"EndTime\": 1679757981.8912518, \"Dimensions\": {\"Algorithm\": \"Linear Learner\", \"Host\": \"algo-1\", \"Operation\": \"training\", \"epoch\": 0, \"model\": 8}, \"Metrics\": {\"train_absolute_loss_objective\": {\"sum\": 0.9487327671051026, \"count\": 1, \"min\": 0.9487327671051026, \"max\": 0.9487327671051026}}}\u001b[0m\n",
      "\u001b[34m#metrics {\"StartTime\": 1679757981.8913307, \"EndTime\": 1679757981.8913498, \"Dimensions\": {\"Algorithm\": \"Linear Learner\", \"Host\": \"algo-1\", \"Operation\": \"training\", \"epoch\": 0, \"model\": 9}, \"Metrics\": {\"train_absolute_loss_objective\": {\"sum\": 0.881731071472168, \"count\": 1, \"min\": 0.881731071472168, \"max\": 0.881731071472168}}}\u001b[0m\n",
      "\u001b[34m#metrics {\"StartTime\": 1679757981.8913987, \"EndTime\": 1679757981.891415, \"Dimensions\": {\"Algorithm\": \"Linear Learner\", \"Host\": \"algo-1\", \"Operation\": \"training\", \"epoch\": 0, \"model\": 10}, \"Metrics\": {\"train_absolute_loss_objective\": {\"sum\": 0.8883384418487549, \"count\": 1, \"min\": 0.8883384418487549, \"max\": 0.8883384418487549}}}\u001b[0m\n",
      "\u001b[34m#metrics {\"StartTime\": 1679757981.8914702, \"EndTime\": 1679757981.8914871, \"Dimensions\": {\"Algorithm\": \"Linear Learner\", \"Host\": \"algo-1\", \"Operation\": \"training\", \"epoch\": 0, \"model\": 11}, \"Metrics\": {\"train_absolute_loss_objective\": {\"sum\": 0.8737275981903077, \"count\": 1, \"min\": 0.8737275981903077, \"max\": 0.8737275981903077}}}\u001b[0m\n",
      "\u001b[34m#metrics {\"StartTime\": 1679757981.891531, \"EndTime\": 1679757981.8915474, \"Dimensions\": {\"Algorithm\": \"Linear Learner\", \"Host\": \"algo-1\", \"Operation\": \"training\", \"epoch\": 0, \"model\": 12}, \"Metrics\": {\"train_absolute_loss_objective\": {\"sum\": 0.8971548271179199, \"count\": 1, \"min\": 0.8971548271179199, \"max\": 0.8971548271179199}}}\u001b[0m\n",
      "\u001b[34m#metrics {\"StartTime\": 1679757981.8915987, \"EndTime\": 1679757981.891615, \"Dimensions\": {\"Algorithm\": \"Linear Learner\", \"Host\": \"algo-1\", \"Operation\": \"training\", \"epoch\": 0, \"model\": 13}, \"Metrics\": {\"train_absolute_loss_objective\": {\"sum\": 0.921938133239746, \"count\": 1, \"min\": 0.921938133239746, \"max\": 0.921938133239746}}}\u001b[0m\n",
      "\u001b[34m#metrics {\"StartTime\": 1679757981.8916624, \"EndTime\": 1679757981.8916795, \"Dimensions\": {\"Algorithm\": \"Linear Learner\", \"Host\": \"algo-1\", \"Operation\": \"training\", \"epoch\": 0, \"model\": 14}, \"Metrics\": {\"train_absolute_loss_objective\": {\"sum\": 0.8957509803771972, \"count\": 1, \"min\": 0.8957509803771972, \"max\": 0.8957509803771972}}}\u001b[0m\n",
      "\u001b[34m#metrics {\"StartTime\": 1679757981.891726, \"EndTime\": 1679757981.8917427, \"Dimensions\": {\"Algorithm\": \"Linear Learner\", \"Host\": \"algo-1\", \"Operation\": \"training\", \"epoch\": 0, \"model\": 15}, \"Metrics\": {\"train_absolute_loss_objective\": {\"sum\": 0.9278779125213623, \"count\": 1, \"min\": 0.9278779125213623, \"max\": 0.9278779125213623}}}\u001b[0m\n",
      "\u001b[34m#metrics {\"StartTime\": 1679757981.8918002, \"EndTime\": 1679757981.891818, \"Dimensions\": {\"Algorithm\": \"Linear Learner\", \"Host\": \"algo-1\", \"Operation\": \"training\", \"epoch\": 0, \"model\": 16}, \"Metrics\": {\"train_absolute_loss_objective\": {\"sum\": 0.8579721164703369, \"count\": 1, \"min\": 0.8579721164703369, \"max\": 0.8579721164703369}}}\u001b[0m\n",
      "\u001b[34m#metrics {\"StartTime\": 1679757981.8918698, \"EndTime\": 1679757981.8918877, \"Dimensions\": {\"Algorithm\": \"Linear Learner\", \"Host\": \"algo-1\", \"Operation\": \"training\", \"epoch\": 0, \"model\": 17}, \"Metrics\": {\"train_absolute_loss_objective\": {\"sum\": 0.9085463619232178, \"count\": 1, \"min\": 0.9085463619232178, \"max\": 0.9085463619232178}}}\u001b[0m\n",
      "\u001b[34m#metrics {\"StartTime\": 1679757981.8919315, \"EndTime\": 1679757981.891948, \"Dimensions\": {\"Algorithm\": \"Linear Learner\", \"Host\": \"algo-1\", \"Operation\": \"training\", \"epoch\": 0, \"model\": 18}, \"Metrics\": {\"train_absolute_loss_objective\": {\"sum\": 0.8846784973144531, \"count\": 1, \"min\": 0.8846784973144531, \"max\": 0.8846784973144531}}}\u001b[0m\n",
      "\u001b[34m#metrics {\"StartTime\": 1679757981.8919966, \"EndTime\": 1679757981.8920138, \"Dimensions\": {\"Algorithm\": \"Linear Learner\", \"Host\": \"algo-1\", \"Operation\": \"training\", \"epoch\": 0, \"model\": 19}, \"Metrics\": {\"train_absolute_loss_objective\": {\"sum\": 0.8820124053955078, \"count\": 1, \"min\": 0.8820124053955078, \"max\": 0.8820124053955078}}}\u001b[0m\n",
      "\u001b[34m#metrics {\"StartTime\": 1679757981.8920686, \"EndTime\": 1679757981.8920846, \"Dimensions\": {\"Algorithm\": \"Linear Learner\", \"Host\": \"algo-1\", \"Operation\": \"training\", \"epoch\": 0, \"model\": 20}, \"Metrics\": {\"train_absolute_loss_objective\": {\"sum\": 0.9547030067443848, \"count\": 1, \"min\": 0.9547030067443848, \"max\": 0.9547030067443848}}}\u001b[0m\n",
      "\u001b[34m#metrics {\"StartTime\": 1679757981.8921359, \"EndTime\": 1679757981.892153, \"Dimensions\": {\"Algorithm\": \"Linear Learner\", \"Host\": \"algo-1\", \"Operation\": \"training\", \"epoch\": 0, \"model\": 21}, \"Metrics\": {\"train_absolute_loss_objective\": {\"sum\": 0.9697915554046631, \"count\": 1, \"min\": 0.9697915554046631, \"max\": 0.9697915554046631}}}\u001b[0m\n",
      "\u001b[34m#metrics {\"StartTime\": 1679757981.8922036, \"EndTime\": 1679757981.8922203, \"Dimensions\": {\"Algorithm\": \"Linear Learner\", \"Host\": \"algo-1\", \"Operation\": \"training\", \"epoch\": 0, \"model\": 22}, \"Metrics\": {\"train_absolute_loss_objective\": {\"sum\": 0.8959617233276367, \"count\": 1, \"min\": 0.8959617233276367, \"max\": 0.8959617233276367}}}\u001b[0m\n",
      "\u001b[34m#metrics {\"StartTime\": 1679757981.89227, \"EndTime\": 1679757981.8922877, \"Dimensions\": {\"Algorithm\": \"Linear Learner\", \"Host\": \"algo-1\", \"Operation\": \"training\", \"epoch\": 0, \"model\": 23}, \"Metrics\": {\"train_absolute_loss_objective\": {\"sum\": 0.9957699966430664, \"count\": 1, \"min\": 0.9957699966430664, \"max\": 0.9957699966430664}}}\u001b[0m\n",
      "\u001b[34m#metrics {\"StartTime\": 1679757981.8923457, \"EndTime\": 1679757981.8923635, \"Dimensions\": {\"Algorithm\": \"Linear Learner\", \"Host\": \"algo-1\", \"Operation\": \"training\", \"epoch\": 0, \"model\": 24}, \"Metrics\": {\"train_absolute_loss_objective\": {\"sum\": 0.857892370223999, \"count\": 1, \"min\": 0.857892370223999, \"max\": 0.857892370223999}}}\u001b[0m\n",
      "\u001b[34m#metrics {\"StartTime\": 1679757981.8924088, \"EndTime\": 1679757981.8924248, \"Dimensions\": {\"Algorithm\": \"Linear Learner\", \"Host\": \"algo-1\", \"Operation\": \"training\", \"epoch\": 0, \"model\": 25}, \"Metrics\": {\"train_absolute_loss_objective\": {\"sum\": 0.9265362358093262, \"count\": 1, \"min\": 0.9265362358093262, \"max\": 0.9265362358093262}}}\u001b[0m\n",
      "\u001b[34m#metrics {\"StartTime\": 1679757981.8924737, \"EndTime\": 1679757981.8924909, \"Dimensions\": {\"Algorithm\": \"Linear Learner\", \"Host\": \"algo-1\", \"Operation\": \"training\", \"epoch\": 0, \"model\": 26}, \"Metrics\": {\"train_absolute_loss_objective\": {\"sum\": 0.9134272384643555, \"count\": 1, \"min\": 0.9134272384643555, \"max\": 0.9134272384643555}}}\u001b[0m\n",
      "\u001b[34m#metrics {\"StartTime\": 1679757981.8925486, \"EndTime\": 1679757981.8925664, \"Dimensions\": {\"Algorithm\": \"Linear Learner\", \"Host\": \"algo-1\", \"Operation\": \"training\", \"epoch\": 0, \"model\": 27}, \"Metrics\": {\"train_absolute_loss_objective\": {\"sum\": 0.9027914428710937, \"count\": 1, \"min\": 0.9027914428710937, \"max\": 0.9027914428710937}}}\u001b[0m\n",
      "\u001b[34m#metrics {\"StartTime\": 1679757981.8926203, \"EndTime\": 1679757981.8926368, \"Dimensions\": {\"Algorithm\": \"Linear Learner\", \"Host\": \"algo-1\", \"Operation\": \"training\", \"epoch\": 0, \"model\": 28}, \"Metrics\": {\"train_absolute_loss_objective\": {\"sum\": 1.0567421340942382, \"count\": 1, \"min\": 1.0567421340942382, \"max\": 1.0567421340942382}}}\u001b[0m\n",
      "\u001b[34m#metrics {\"StartTime\": 1679757981.8926857, \"EndTime\": 1679757981.8927019, \"Dimensions\": {\"Algorithm\": \"Linear Learner\", \"Host\": \"algo-1\", \"Operation\": \"training\", \"epoch\": 0, \"model\": 29}, \"Metrics\": {\"train_absolute_loss_objective\": {\"sum\": 1.0564276123046874, \"count\": 1, \"min\": 1.0564276123046874, \"max\": 1.0564276123046874}}}\u001b[0m\n",
      "\u001b[34m#metrics {\"StartTime\": 1679757981.8927538, \"EndTime\": 1679757981.89277, \"Dimensions\": {\"Algorithm\": \"Linear Learner\", \"Host\": \"algo-1\", \"Operation\": \"training\", \"epoch\": 0, \"model\": 30}, \"Metrics\": {\"train_absolute_loss_objective\": {\"sum\": 1.0340762901306153, \"count\": 1, \"min\": 1.0340762901306153, \"max\": 1.0340762901306153}}}\u001b[0m\n",
      "\u001b[34m#metrics {\"StartTime\": 1679757981.8928208, \"EndTime\": 1679757981.892837, \"Dimensions\": {\"Algorithm\": \"Linear Learner\", \"Host\": \"algo-1\", \"Operation\": \"training\", \"epoch\": 0, \"model\": 31}, \"Metrics\": {\"train_absolute_loss_objective\": {\"sum\": 1.0306473636627198, \"count\": 1, \"min\": 1.0306473636627198, \"max\": 1.0306473636627198}}}\u001b[0m\n",
      "\u001b[34m[03/25/2023 15:26:21 INFO 139677631850304] #quality_metric: host=algo-1, epoch=0, train absolute_loss_objective <loss>=0.8935966873168946\u001b[0m\n",
      "\u001b[34m[03/25/2023 15:26:21 INFO 139677631850304] #early_stopping_criteria_metric: host=algo-1, epoch=0, criteria=absolute_loss_objective, value=0.857892370223999\u001b[0m\n",
      "\u001b[34m[03/25/2023 15:26:21 INFO 139677631850304] Epoch 0: Loss improved. Updating best model\u001b[0m\n",
      "\u001b[34m[03/25/2023 15:26:21 INFO 139677631850304] Saving model for epoch: 0\u001b[0m\n",
      "\u001b[34m[03/25/2023 15:26:21 INFO 139677631850304] Saved checkpoint to \"/tmp/tmpeqyfojat/mx-mod-0000.params\"\u001b[0m\n",
      "\u001b[34m[03/25/2023 15:26:21 INFO 139677631850304] #progress_metric: host=algo-1, completed 20.0 % of epochs\u001b[0m\n",
      "\u001b[34m#metrics {\"StartTime\": 1679757981.7684462, \"EndTime\": 1679757981.904187, \"Dimensions\": {\"Algorithm\": \"Linear Learner\", \"Host\": \"algo-1\", \"Operation\": \"training\", \"epoch\": 0, \"Meta\": \"training_data_iter\"}, \"Metrics\": {\"Total Records Seen\": {\"sum\": 57.0, \"count\": 1, \"min\": 57, \"max\": 57}, \"Total Batches Seen\": {\"sum\": 13.0, \"count\": 1, \"min\": 13, \"max\": 13}, \"Max Records Seen Between Resets\": {\"sum\": 26.0, \"count\": 1, \"min\": 26, \"max\": 26}, \"Max Batches Seen Between Resets\": {\"sum\": 6.0, \"count\": 1, \"min\": 6, \"max\": 6}, \"Reset Count\": {\"sum\": 3.0, \"count\": 1, \"min\": 3, \"max\": 3}, \"Number of Records Since Last Reset\": {\"sum\": 26.0, \"count\": 1, \"min\": 26, \"max\": 26}, \"Number of Batches Since Last Reset\": {\"sum\": 6.0, \"count\": 1, \"min\": 6, \"max\": 6}}}\u001b[0m\n",
      "\u001b[34m[03/25/2023 15:26:21 INFO 139677631850304] #throughput_metric: host=algo-1, train throughput=191.37385603251457 records/second\u001b[0m\n",
      "\u001b[34m[2023-03-25 15:26:22.015] [tensorio] [info] epoch_stats={\"data_pipeline\": \"/opt/ml/input/data/train\", \"epoch\": 6, \"duration\": 110, \"num_examples\": 6, \"num_bytes\": 1248}\u001b[0m\n",
      "\u001b[34m#metrics {\"StartTime\": 1679757982.015388, \"EndTime\": 1679757982.0154636, \"Dimensions\": {\"Algorithm\": \"Linear Learner\", \"Host\": \"algo-1\", \"Operation\": \"training\", \"epoch\": 1, \"model\": 0}, \"Metrics\": {\"train_absolute_loss_objective\": {\"sum\": 0.860452470779419, \"count\": 1, \"min\": 0.860452470779419, \"max\": 0.860452470779419}}}\u001b[0m\n",
      "\u001b[34m#metrics {\"StartTime\": 1679757982.0155396, \"EndTime\": 1679757982.0155616, \"Dimensions\": {\"Algorithm\": \"Linear Learner\", \"Host\": \"algo-1\", \"Operation\": \"training\", \"epoch\": 1, \"model\": 1}, \"Metrics\": {\"train_absolute_loss_objective\": {\"sum\": 0.8800763702392578, \"count\": 1, \"min\": 0.8800763702392578, \"max\": 0.8800763702392578}}}\u001b[0m\n",
      "\u001b[34m#metrics {\"StartTime\": 1679757982.015623, \"EndTime\": 1679757982.0156424, \"Dimensions\": {\"Algorithm\": \"Linear Learner\", \"Host\": \"algo-1\", \"Operation\": \"training\", \"epoch\": 1, \"model\": 2}, \"Metrics\": {\"train_absolute_loss_objective\": {\"sum\": 0.8628296375274658, \"count\": 1, \"min\": 0.8628296375274658, \"max\": 0.8628296375274658}}}\u001b[0m\n",
      "\u001b[34m#metrics {\"StartTime\": 1679757982.0156906, \"EndTime\": 1679757982.015708, \"Dimensions\": {\"Algorithm\": \"Linear Learner\", \"Host\": \"algo-1\", \"Operation\": \"training\", \"epoch\": 1, \"model\": 3}, \"Metrics\": {\"train_absolute_loss_objective\": {\"sum\": 0.8790735149383545, \"count\": 1, \"min\": 0.8790735149383545, \"max\": 0.8790735149383545}}}\u001b[0m\n",
      "\u001b[34m#metrics {\"StartTime\": 1679757982.015754, \"EndTime\": 1679757982.0157702, \"Dimensions\": {\"Algorithm\": \"Linear Learner\", \"Host\": \"algo-1\", \"Operation\": \"training\", \"epoch\": 1, \"model\": 4}, \"Metrics\": {\"train_absolute_loss_objective\": {\"sum\": 0.528888087272644, \"count\": 1, \"min\": 0.528888087272644, \"max\": 0.528888087272644}}}\u001b[0m\n",
      "\u001b[34m#metrics {\"StartTime\": 1679757982.0158284, \"EndTime\": 1679757982.015847, \"Dimensions\": {\"Algorithm\": \"Linear Learner\", \"Host\": \"algo-1\", \"Operation\": \"training\", \"epoch\": 1, \"model\": 5}, \"Metrics\": {\"train_absolute_loss_objective\": {\"sum\": 0.5295198965072632, \"count\": 1, \"min\": 0.5295198965072632, \"max\": 0.5295198965072632}}}\u001b[0m\n",
      "\u001b[34m#metrics {\"StartTime\": 1679757982.0158978, \"EndTime\": 1679757982.0159142, \"Dimensions\": {\"Algorithm\": \"Linear Learner\", \"Host\": \"algo-1\", \"Operation\": \"training\", \"epoch\": 1, \"model\": 6}, \"Metrics\": {\"train_absolute_loss_objective\": {\"sum\": 0.5376567888259888, \"count\": 1, \"min\": 0.5376567888259888, \"max\": 0.5376567888259888}}}\u001b[0m\n",
      "\u001b[34m#metrics {\"StartTime\": 1679757982.0159636, \"EndTime\": 1679757982.01598, \"Dimensions\": {\"Algorithm\": \"Linear Learner\", \"Host\": \"algo-1\", \"Operation\": \"training\", \"epoch\": 1, \"model\": 7}, \"Metrics\": {\"train_absolute_loss_objective\": {\"sum\": 0.5216203832626343, \"count\": 1, \"min\": 0.5216203832626343, \"max\": 0.5216203832626343}}}\u001b[0m\n",
      "\u001b[34m#metrics {\"StartTime\": 1679757982.016034, \"EndTime\": 1679757982.016052, \"Dimensions\": {\"Algorithm\": \"Linear Learner\", \"Host\": \"algo-1\", \"Operation\": \"training\", \"epoch\": 1, \"model\": 8}, \"Metrics\": {\"train_absolute_loss_objective\": {\"sum\": 0.9155510902404785, \"count\": 1, \"min\": 0.9155510902404785, \"max\": 0.9155510902404785}}}\u001b[0m\n",
      "\u001b[34m#metrics {\"StartTime\": 1679757982.0160987, \"EndTime\": 1679757982.0161152, \"Dimensions\": {\"Algorithm\": \"Linear Learner\", \"Host\": \"algo-1\", \"Operation\": \"training\", \"epoch\": 1, \"model\": 9}, \"Metrics\": {\"train_absolute_loss_objective\": {\"sum\": 0.8485957336425781, \"count\": 1, \"min\": 0.8485957336425781, \"max\": 0.8485957336425781}}}\u001b[0m\n",
      "\u001b[34m#metrics {\"StartTime\": 1679757982.0161734, \"EndTime\": 1679757982.0161912, \"Dimensions\": {\"Algorithm\": \"Linear Learner\", \"Host\": \"algo-1\", \"Operation\": \"training\", \"epoch\": 1, \"model\": 10}, \"Metrics\": {\"train_absolute_loss_objective\": {\"sum\": 0.8551985549926758, \"count\": 1, \"min\": 0.8551985549926758, \"max\": 0.8551985549926758}}}\u001b[0m\n",
      "\u001b[34m#metrics {\"StartTime\": 1679757982.016243, \"EndTime\": 1679757982.0162601, \"Dimensions\": {\"Algorithm\": \"Linear Learner\", \"Host\": \"algo-1\", \"Operation\": \"training\", \"epoch\": 1, \"model\": 11}, \"Metrics\": {\"train_absolute_loss_objective\": {\"sum\": 0.8405978012084961, \"count\": 1, \"min\": 0.8405978012084961, \"max\": 0.8405978012084961}}}\u001b[0m\n",
      "\u001b[34m#metrics {\"StartTime\": 1679757982.0163097, \"EndTime\": 1679757982.0163255, \"Dimensions\": {\"Algorithm\": \"Linear Learner\", \"Host\": \"algo-1\", \"Operation\": \"training\", \"epoch\": 1, \"model\": 12}, \"Metrics\": {\"train_absolute_loss_objective\": {\"sum\": 0.5294625186920165, \"count\": 1, \"min\": 0.5294625186920165, \"max\": 0.5294625186920165}}}\u001b[0m\n",
      "\u001b[34m#metrics {\"StartTime\": 1679757982.0163825, \"EndTime\": 1679757982.0164006, \"Dimensions\": {\"Algorithm\": \"Linear Learner\", \"Host\": \"algo-1\", \"Operation\": \"training\", \"epoch\": 1, \"model\": 13}, \"Metrics\": {\"train_absolute_loss_objective\": {\"sum\": 0.46300846576690674, \"count\": 1, \"min\": 0.46300846576690674, \"max\": 0.46300846576690674}}}\u001b[0m\n",
      "\u001b[34m#metrics {\"StartTime\": 1679757982.0164428, \"EndTime\": 1679757982.0164587, \"Dimensions\": {\"Algorithm\": \"Linear Learner\", \"Host\": \"algo-1\", \"Operation\": \"training\", \"epoch\": 1, \"model\": 14}, \"Metrics\": {\"train_absolute_loss_objective\": {\"sum\": 0.5293660068511963, \"count\": 1, \"min\": 0.5293660068511963, \"max\": 0.5293660068511963}}}\u001b[0m\n",
      "\u001b[34m#metrics {\"StartTime\": 1679757982.0165076, \"EndTime\": 1679757982.0165246, \"Dimensions\": {\"Algorithm\": \"Linear Learner\", \"Host\": \"algo-1\", \"Operation\": \"training\", \"epoch\": 1, \"model\": 15}, \"Metrics\": {\"train_absolute_loss_objective\": {\"sum\": 0.4657669734954834, \"count\": 1, \"min\": 0.4657669734954834, \"max\": 0.4657669734954834}}}\u001b[0m\n",
      "\u001b[34m#metrics {\"StartTime\": 1679757982.0165663, \"EndTime\": 1679757982.0165815, \"Dimensions\": {\"Algorithm\": \"Linear Learner\", \"Host\": \"algo-1\", \"Operation\": \"training\", \"epoch\": 1, \"model\": 16}, \"Metrics\": {\"train_absolute_loss_objective\": {\"sum\": 0.8250100994110108, \"count\": 1, \"min\": 0.8250100994110108, \"max\": 0.8250100994110108}}}\u001b[0m\n",
      "\u001b[34m#metrics {\"StartTime\": 1679757982.0166354, \"EndTime\": 1679757982.0166523, \"Dimensions\": {\"Algorithm\": \"Linear Learner\", \"Host\": \"algo-1\", \"Operation\": \"training\", \"epoch\": 1, \"model\": 17}, \"Metrics\": {\"train_absolute_loss_objective\": {\"sum\": 0.8754343223571778, \"count\": 1, \"min\": 0.8754343223571778, \"max\": 0.8754343223571778}}}\u001b[0m\n",
      "\u001b[34m#metrics {\"StartTime\": 1679757982.0167058, \"EndTime\": 1679757982.016723, \"Dimensions\": {\"Algorithm\": \"Linear Learner\", \"Host\": \"algo-1\", \"Operation\": \"training\", \"epoch\": 1, \"model\": 18}, \"Metrics\": {\"train_absolute_loss_objective\": {\"sum\": 0.851634750366211, \"count\": 1, \"min\": 0.851634750366211, \"max\": 0.851634750366211}}}\u001b[0m\n",
      "\u001b[34m#metrics {\"StartTime\": 1679757982.0167642, \"EndTime\": 1679757982.0167809, \"Dimensions\": {\"Algorithm\": \"Linear Learner\", \"Host\": \"algo-1\", \"Operation\": \"training\", \"epoch\": 1, \"model\": 19}, \"Metrics\": {\"train_absolute_loss_objective\": {\"sum\": 0.8489765834808349, \"count\": 1, \"min\": 0.8489765834808349, \"max\": 0.8489765834808349}}}\u001b[0m\n",
      "\u001b[34m#metrics {\"StartTime\": 1679757982.016833, \"EndTime\": 1679757982.0168498, \"Dimensions\": {\"Algorithm\": \"Linear Learner\", \"Host\": \"algo-1\", \"Operation\": \"training\", \"epoch\": 1, \"model\": 20}, \"Metrics\": {\"train_absolute_loss_objective\": {\"sum\": 0.5497677278518677, \"count\": 1, \"min\": 0.5497677278518677, \"max\": 0.5497677278518677}}}\u001b[0m\n",
      "\u001b[34m#metrics {\"StartTime\": 1679757982.0169096, \"EndTime\": 1679757982.0169275, \"Dimensions\": {\"Algorithm\": \"Linear Learner\", \"Host\": \"algo-1\", \"Operation\": \"training\", \"epoch\": 1, \"model\": 21}, \"Metrics\": {\"train_absolute_loss_objective\": {\"sum\": 0.5560653686523438, \"count\": 1, \"min\": 0.5560653686523438, \"max\": 0.5560653686523438}}}\u001b[0m\n",
      "\u001b[34m#metrics {\"StartTime\": 1679757982.0169897, \"EndTime\": 1679757982.0170069, \"Dimensions\": {\"Algorithm\": \"Linear Learner\", \"Host\": \"algo-1\", \"Operation\": \"training\", \"epoch\": 1, \"model\": 22}, \"Metrics\": {\"train_absolute_loss_objective\": {\"sum\": 0.4888057851791382, \"count\": 1, \"min\": 0.4888057851791382, \"max\": 0.4888057851791382}}}\u001b[0m\n",
      "\u001b[34m#metrics {\"StartTime\": 1679757982.017063, \"EndTime\": 1679757982.0170798, \"Dimensions\": {\"Algorithm\": \"Linear Learner\", \"Host\": \"algo-1\", \"Operation\": \"training\", \"epoch\": 1, \"model\": 23}, \"Metrics\": {\"train_absolute_loss_objective\": {\"sum\": 0.5512576961517334, \"count\": 1, \"min\": 0.5512576961517334, \"max\": 0.5512576961517334}}}\u001b[0m\n",
      "\u001b[34m#metrics {\"StartTime\": 1679757982.017135, \"EndTime\": 1679757982.017153, \"Dimensions\": {\"Algorithm\": \"Linear Learner\", \"Host\": \"algo-1\", \"Operation\": \"training\", \"epoch\": 1, \"model\": 24}, \"Metrics\": {\"train_absolute_loss_objective\": {\"sum\": 0.8656919765472412, \"count\": 1, \"min\": 0.8656919765472412, \"max\": 0.8656919765472412}}}\u001b[0m\n",
      "\u001b[34m#metrics {\"StartTime\": 1679757982.0172062, \"EndTime\": 1679757982.0172212, \"Dimensions\": {\"Algorithm\": \"Linear Learner\", \"Host\": \"algo-1\", \"Operation\": \"training\", \"epoch\": 1, \"model\": 25}, \"Metrics\": {\"train_absolute_loss_objective\": {\"sum\": 0.8940211105346679, \"count\": 1, \"min\": 0.8940211105346679, \"max\": 0.8940211105346679}}}\u001b[0m\n",
      "\u001b[34m#metrics {\"StartTime\": 1679757982.0173023, \"EndTime\": 1679757982.0173228, \"Dimensions\": {\"Algorithm\": \"Linear Learner\", \"Host\": \"algo-1\", \"Operation\": \"training\", \"epoch\": 1, \"model\": 26}, \"Metrics\": {\"train_absolute_loss_objective\": {\"sum\": 0.8834472370147705, \"count\": 1, \"min\": 0.8834472370147705, \"max\": 0.8834472370147705}}}\u001b[0m\n",
      "\u001b[34m#metrics {\"StartTime\": 1679757982.0174482, \"EndTime\": 1679757982.0174694, \"Dimensions\": {\"Algorithm\": \"Linear Learner\", \"Host\": \"algo-1\", \"Operation\": \"training\", \"epoch\": 1, \"model\": 27}, \"Metrics\": {\"train_absolute_loss_objective\": {\"sum\": 0.8817337417602539, \"count\": 1, \"min\": 0.8817337417602539, \"max\": 0.8817337417602539}}}\u001b[0m\n",
      "\u001b[34m#metrics {\"StartTime\": 1679757982.0175269, \"EndTime\": 1679757982.0175385, \"Dimensions\": {\"Algorithm\": \"Linear Learner\", \"Host\": \"algo-1\", \"Operation\": \"training\", \"epoch\": 1, \"model\": 28}, \"Metrics\": {\"train_absolute_loss_objective\": {\"sum\": 0.9816517639160156, \"count\": 1, \"min\": 0.9816517639160156, \"max\": 0.9816517639160156}}}\u001b[0m\n",
      "\u001b[34m#metrics {\"StartTime\": 1679757982.017587, \"EndTime\": 1679757982.0176044, \"Dimensions\": {\"Algorithm\": \"Linear Learner\", \"Host\": \"algo-1\", \"Operation\": \"training\", \"epoch\": 1, \"model\": 29}, \"Metrics\": {\"train_absolute_loss_objective\": {\"sum\": 0.9812540245056153, \"count\": 1, \"min\": 0.9812540245056153, \"max\": 0.9812540245056153}}}\u001b[0m\n",
      "\u001b[34m#metrics {\"StartTime\": 1679757982.017655, \"EndTime\": 1679757982.017671, \"Dimensions\": {\"Algorithm\": \"Linear Learner\", \"Host\": \"algo-1\", \"Operation\": \"training\", \"epoch\": 1, \"model\": 30}, \"Metrics\": {\"train_absolute_loss_objective\": {\"sum\": 0.9292780303955078, \"count\": 1, \"min\": 0.9292780303955078, \"max\": 0.9292780303955078}}}\u001b[0m\n",
      "\u001b[34m#metrics {\"StartTime\": 1679757982.0177236, \"EndTime\": 1679757982.0177402, \"Dimensions\": {\"Algorithm\": \"Linear Learner\", \"Host\": \"algo-1\", \"Operation\": \"training\", \"epoch\": 1, \"model\": 31}, \"Metrics\": {\"train_absolute_loss_objective\": {\"sum\": 0.9366684341430664, \"count\": 1, \"min\": 0.9366684341430664, \"max\": 0.9366684341430664}}}\u001b[0m\n",
      "\u001b[34m[03/25/2023 15:26:22 INFO 139677631850304] #quality_metric: host=algo-1, epoch=1, train absolute_loss_objective <loss>=0.860452470779419\u001b[0m\n",
      "\u001b[34m[03/25/2023 15:26:22 INFO 139677631850304] #early_stopping_criteria_metric: host=algo-1, epoch=1, criteria=absolute_loss_objective, value=0.46300846576690674\u001b[0m\n",
      "\u001b[34m[03/25/2023 15:26:22 INFO 139677631850304] Epoch 1: Loss improved. Updating best model\u001b[0m\n",
      "\u001b[34m[03/25/2023 15:26:22 INFO 139677631850304] Saving model for epoch: 1\u001b[0m\n",
      "\u001b[34m[03/25/2023 15:26:22 INFO 139677631850304] Saved checkpoint to \"/tmp/tmphpgijke3/mx-mod-0000.params\"\u001b[0m\n",
      "\u001b[34m[03/25/2023 15:26:22 INFO 139677631850304] #progress_metric: host=algo-1, completed 40.0 % of epochs\u001b[0m\n",
      "\u001b[34m#metrics {\"StartTime\": 1679757981.9044821, \"EndTime\": 1679757982.026429, \"Dimensions\": {\"Algorithm\": \"Linear Learner\", \"Host\": \"algo-1\", \"Operation\": \"training\", \"epoch\": 1, \"Meta\": \"training_data_iter\"}, \"Metrics\": {\"Total Records Seen\": {\"sum\": 83.0, \"count\": 1, \"min\": 83, \"max\": 83}, \"Total Batches Seen\": {\"sum\": 19.0, \"count\": 1, \"min\": 19, \"max\": 19}, \"Max Records Seen Between Resets\": {\"sum\": 26.0, \"count\": 1, \"min\": 26, \"max\": 26}, \"Max Batches Seen Between Resets\": {\"sum\": 6.0, \"count\": 1, \"min\": 6, \"max\": 6}, \"Reset Count\": {\"sum\": 4.0, \"count\": 1, \"min\": 4, \"max\": 4}, \"Number of Records Since Last Reset\": {\"sum\": 26.0, \"count\": 1, \"min\": 26, \"max\": 26}, \"Number of Batches Since Last Reset\": {\"sum\": 6.0, \"count\": 1, \"min\": 6, \"max\": 6}}}\u001b[0m\n",
      "\u001b[34m[03/25/2023 15:26:22 INFO 139677631850304] #throughput_metric: host=algo-1, train throughput=212.9562300082408 records/second\u001b[0m\n",
      "\u001b[34m[2023-03-25 15:26:22.135] [tensorio] [info] epoch_stats={\"data_pipeline\": \"/opt/ml/input/data/train\", \"epoch\": 8, \"duration\": 108, \"num_examples\": 6, \"num_bytes\": 1248}\u001b[0m\n",
      "\u001b[34m#metrics {\"StartTime\": 1679757982.1353502, \"EndTime\": 1679757982.135427, \"Dimensions\": {\"Algorithm\": \"Linear Learner\", \"Host\": \"algo-1\", \"Operation\": \"training\", \"epoch\": 2, \"model\": 0}, \"Metrics\": {\"train_absolute_loss_objective\": {\"sum\": 0.8368638229370117, \"count\": 1, \"min\": 0.8368638229370117, \"max\": 0.8368638229370117}}}\u001b[0m\n",
      "\u001b[34m#metrics {\"StartTime\": 1679757982.135506, \"EndTime\": 1679757982.1355276, \"Dimensions\": {\"Algorithm\": \"Linear Learner\", \"Host\": \"algo-1\", \"Operation\": \"training\", \"epoch\": 2, \"model\": 1}, \"Metrics\": {\"train_absolute_loss_objective\": {\"sum\": 0.8564380931854249, \"count\": 1, \"min\": 0.8564380931854249, \"max\": 0.8564380931854249}}}\u001b[0m\n",
      "\u001b[34m#metrics {\"StartTime\": 1679757982.1355891, \"EndTime\": 1679757982.1356077, \"Dimensions\": {\"Algorithm\": \"Linear Learner\", \"Host\": \"algo-1\", \"Operation\": \"training\", \"epoch\": 2, \"model\": 2}, \"Metrics\": {\"train_absolute_loss_objective\": {\"sum\": 0.8392409801483154, \"count\": 1, \"min\": 0.8392409801483154, \"max\": 0.8392409801483154}}}\u001b[0m\n",
      "\u001b[34m#metrics {\"StartTime\": 1679757982.1356683, \"EndTime\": 1679757982.1356866, \"Dimensions\": {\"Algorithm\": \"Linear Learner\", \"Host\": \"algo-1\", \"Operation\": \"training\", \"epoch\": 2, \"model\": 3}, \"Metrics\": {\"train_absolute_loss_objective\": {\"sum\": 0.8554352760314942, \"count\": 1, \"min\": 0.8554352760314942, \"max\": 0.8554352760314942}}}\u001b[0m\n",
      "\u001b[34m#metrics {\"StartTime\": 1679757982.1357424, \"EndTime\": 1679757982.1357596, \"Dimensions\": {\"Algorithm\": \"Linear Learner\", \"Host\": \"algo-1\", \"Operation\": \"training\", \"epoch\": 2, \"model\": 4}, \"Metrics\": {\"train_absolute_loss_objective\": {\"sum\": 0.21673052072525023, \"count\": 1, \"min\": 0.21673052072525023, \"max\": 0.21673052072525023}}}\u001b[0m\n",
      "\u001b[34m#metrics {\"StartTime\": 1679757982.1358092, \"EndTime\": 1679757982.1358263, \"Dimensions\": {\"Algorithm\": \"Linear Learner\", \"Host\": \"algo-1\", \"Operation\": \"training\", \"epoch\": 2, \"model\": 5}, \"Metrics\": {\"train_absolute_loss_objective\": {\"sum\": 0.22266193151473998, \"count\": 1, \"min\": 0.22266193151473998, \"max\": 0.22266193151473998}}}\u001b[0m\n",
      "\u001b[34m#metrics {\"StartTime\": 1679757982.1358836, \"EndTime\": 1679757982.1359017, \"Dimensions\": {\"Algorithm\": \"Linear Learner\", \"Host\": \"algo-1\", \"Operation\": \"training\", \"epoch\": 2, \"model\": 6}, \"Metrics\": {\"train_absolute_loss_objective\": {\"sum\": 0.2804809284210205, \"count\": 1, \"min\": 0.2804809284210205, \"max\": 0.2804809284210205}}}\u001b[0m\n",
      "\u001b[34m#metrics {\"StartTime\": 1679757982.1359437, \"EndTime\": 1679757982.13596, \"Dimensions\": {\"Algorithm\": \"Linear Learner\", \"Host\": \"algo-1\", \"Operation\": \"training\", \"epoch\": 2, \"model\": 7}, \"Metrics\": {\"train_absolute_loss_objective\": {\"sum\": 0.2785573935508728, \"count\": 1, \"min\": 0.2785573935508728, \"max\": 0.2785573935508728}}}\u001b[0m\n",
      "\u001b[34m#metrics {\"StartTime\": 1679757982.1360123, \"EndTime\": 1679757982.136029, \"Dimensions\": {\"Algorithm\": \"Linear Learner\", \"Host\": \"algo-1\", \"Operation\": \"training\", \"epoch\": 2, \"model\": 8}, \"Metrics\": {\"train_absolute_loss_objective\": {\"sum\": 0.8919627857208252, \"count\": 1, \"min\": 0.8919627857208252, \"max\": 0.8919627857208252}}}\u001b[0m\n",
      "\u001b[34m#metrics {\"StartTime\": 1679757982.1360812, \"EndTime\": 1679757982.1360967, \"Dimensions\": {\"Algorithm\": \"Linear Learner\", \"Host\": \"algo-1\", \"Operation\": \"training\", \"epoch\": 2, \"model\": 9}, \"Metrics\": {\"train_absolute_loss_objective\": {\"sum\": 0.8249594306945801, \"count\": 1, \"min\": 0.8249594306945801, \"max\": 0.8249594306945801}}}\u001b[0m\n",
      "\u001b[34m#metrics {\"StartTime\": 1679757982.1361492, \"EndTime\": 1679757982.1361654, \"Dimensions\": {\"Algorithm\": \"Linear Learner\", \"Host\": \"algo-1\", \"Operation\": \"training\", \"epoch\": 2, \"model\": 10}, \"Metrics\": {\"train_absolute_loss_objective\": {\"sum\": 0.8316116714477539, \"count\": 1, \"min\": 0.8316116714477539, \"max\": 0.8316116714477539}}}\u001b[0m\n",
      "\u001b[34m#metrics {\"StartTime\": 1679757982.1362183, \"EndTime\": 1679757982.1362357, \"Dimensions\": {\"Algorithm\": \"Linear Learner\", \"Host\": \"algo-1\", \"Operation\": \"training\", \"epoch\": 2, \"model\": 11}, \"Metrics\": {\"train_absolute_loss_objective\": {\"sum\": 0.8169616794586182, \"count\": 1, \"min\": 0.8169616794586182, \"max\": 0.8169616794586182}}}\u001b[0m\n",
      "\u001b[34m#metrics {\"StartTime\": 1679757982.1362858, \"EndTime\": 1679757982.1363037, \"Dimensions\": {\"Algorithm\": \"Linear Learner\", \"Host\": \"algo-1\", \"Operation\": \"training\", \"epoch\": 2, \"model\": 12}, \"Metrics\": {\"train_absolute_loss_objective\": {\"sum\": 0.22171239852905272, \"count\": 1, \"min\": 0.22171239852905272, \"max\": 0.22171239852905272}}}\u001b[0m\n",
      "\u001b[34m#metrics {\"StartTime\": 1679757982.136361, \"EndTime\": 1679757982.1363778, \"Dimensions\": {\"Algorithm\": \"Linear Learner\", \"Host\": \"algo-1\", \"Operation\": \"training\", \"epoch\": 2, \"model\": 13}, \"Metrics\": {\"train_absolute_loss_objective\": {\"sum\": 0.1823056411743164, \"count\": 1, \"min\": 0.1823056411743164, \"max\": 0.1823056411743164}}}\u001b[0m\n",
      "\u001b[34m#metrics {\"StartTime\": 1679757982.1364355, \"EndTime\": 1679757982.136453, \"Dimensions\": {\"Algorithm\": \"Linear Learner\", \"Host\": \"algo-1\", \"Operation\": \"training\", \"epoch\": 2, \"model\": 14}, \"Metrics\": {\"train_absolute_loss_objective\": {\"sum\": 0.22106975078582763, \"count\": 1, \"min\": 0.22106975078582763, \"max\": 0.22106975078582763}}}\u001b[0m\n",
      "\u001b[34m#metrics {\"StartTime\": 1679757982.1364942, \"EndTime\": 1679757982.1365097, \"Dimensions\": {\"Algorithm\": \"Linear Learner\", \"Host\": \"algo-1\", \"Operation\": \"training\", \"epoch\": 2, \"model\": 15}, \"Metrics\": {\"train_absolute_loss_objective\": {\"sum\": 0.18385191202163698, \"count\": 1, \"min\": 0.18385191202163698, \"max\": 0.18385191202163698}}}\u001b[0m\n",
      "\u001b[34m#metrics {\"StartTime\": 1679757982.1365604, \"EndTime\": 1679757982.1365764, \"Dimensions\": {\"Algorithm\": \"Linear Learner\", \"Host\": \"algo-1\", \"Operation\": \"training\", \"epoch\": 2, \"model\": 16}, \"Metrics\": {\"train_absolute_loss_objective\": {\"sum\": 0.8016994190216065, \"count\": 1, \"min\": 0.8016994190216065, \"max\": 0.8016994190216065}}}\u001b[0m\n",
      "\u001b[34m#metrics {\"StartTime\": 1679757982.136629, \"EndTime\": 1679757982.1366458, \"Dimensions\": {\"Algorithm\": \"Linear Learner\", \"Host\": \"algo-1\", \"Operation\": \"training\", \"epoch\": 2, \"model\": 17}, \"Metrics\": {\"train_absolute_loss_objective\": {\"sum\": 0.8519306182861328, \"count\": 1, \"min\": 0.8519306182861328, \"max\": 0.8519306182861328}}}\u001b[0m\n",
      "\u001b[34m#metrics {\"StartTime\": 1679757982.136703, \"EndTime\": 1679757982.1367204, \"Dimensions\": {\"Algorithm\": \"Linear Learner\", \"Host\": \"algo-1\", \"Operation\": \"training\", \"epoch\": 2, \"model\": 18}, \"Metrics\": {\"train_absolute_loss_objective\": {\"sum\": 0.8282448291778565, \"count\": 1, \"min\": 0.8282448291778565, \"max\": 0.8282448291778565}}}\u001b[0m\n",
      "\u001b[34m#metrics {\"StartTime\": 1679757982.1369057, \"EndTime\": 1679757982.1369286, \"Dimensions\": {\"Algorithm\": \"Linear Learner\", \"Host\": \"algo-1\", \"Operation\": \"training\", \"epoch\": 2, \"model\": 19}, \"Metrics\": {\"train_absolute_loss_objective\": {\"sum\": 0.8255454444885254, \"count\": 1, \"min\": 0.8255454444885254, \"max\": 0.8255454444885254}}}\u001b[0m\n",
      "\u001b[34m#metrics {\"StartTime\": 1679757982.1369896, \"EndTime\": 1679757982.1370041, \"Dimensions\": {\"Algorithm\": \"Linear Learner\", \"Host\": \"algo-1\", \"Operation\": \"training\", \"epoch\": 2, \"model\": 20}, \"Metrics\": {\"train_absolute_loss_objective\": {\"sum\": 0.43549907207489014, \"count\": 1, \"min\": 0.43549907207489014, \"max\": 0.43549907207489014}}}\u001b[0m\n",
      "\u001b[34m#metrics {\"StartTime\": 1679757982.1370583, \"EndTime\": 1679757982.137076, \"Dimensions\": {\"Algorithm\": \"Linear Learner\", \"Host\": \"algo-1\", \"Operation\": \"training\", \"epoch\": 2, \"model\": 21}, \"Metrics\": {\"train_absolute_loss_objective\": {\"sum\": 0.4383421611785889, \"count\": 1, \"min\": 0.4383421611785889, \"max\": 0.4383421611785889}}}\u001b[0m\n",
      "\u001b[34m#metrics {\"StartTime\": 1679757982.1371214, \"EndTime\": 1679757982.1371381, \"Dimensions\": {\"Algorithm\": \"Linear Learner\", \"Host\": \"algo-1\", \"Operation\": \"training\", \"epoch\": 2, \"model\": 22}, \"Metrics\": {\"train_absolute_loss_objective\": {\"sum\": 0.3107555818557739, \"count\": 1, \"min\": 0.3107555818557739, \"max\": 0.3107555818557739}}}\u001b[0m\n",
      "\u001b[34m#metrics {\"StartTime\": 1679757982.1371968, \"EndTime\": 1679757982.1372142, \"Dimensions\": {\"Algorithm\": \"Linear Learner\", \"Host\": \"algo-1\", \"Operation\": \"training\", \"epoch\": 2, \"model\": 23}, \"Metrics\": {\"train_absolute_loss_objective\": {\"sum\": 0.3476023769378662, \"count\": 1, \"min\": 0.3476023769378662, \"max\": 0.3476023769378662}}}\u001b[0m\n",
      "\u001b[34m#metrics {\"StartTime\": 1679757982.1373036, \"EndTime\": 1679757982.1373239, \"Dimensions\": {\"Algorithm\": \"Linear Learner\", \"Host\": \"algo-1\", \"Operation\": \"training\", \"epoch\": 2, \"model\": 24}, \"Metrics\": {\"train_absolute_loss_objective\": {\"sum\": 0.8797687435150147, \"count\": 1, \"min\": 0.8797687435150147, \"max\": 0.8797687435150147}}}\u001b[0m\n",
      "\u001b[34m#metrics {\"StartTime\": 1679757982.1373851, \"EndTime\": 1679757982.1374042, \"Dimensions\": {\"Algorithm\": \"Linear Learner\", \"Host\": \"algo-1\", \"Operation\": \"training\", \"epoch\": 2, \"model\": 25}, \"Metrics\": {\"train_absolute_loss_objective\": {\"sum\": 0.8765744972229004, \"count\": 1, \"min\": 0.8765744972229004, \"max\": 0.8765744972229004}}}\u001b[0m\n",
      "\u001b[34m#metrics {\"StartTime\": 1679757982.137461, \"EndTime\": 1679757982.1374774, \"Dimensions\": {\"Algorithm\": \"Linear Learner\", \"Host\": \"algo-1\", \"Operation\": \"training\", \"epoch\": 2, \"model\": 26}, \"Metrics\": {\"train_absolute_loss_objective\": {\"sum\": 0.8746767711639404, \"count\": 1, \"min\": 0.8746767711639404, \"max\": 0.8746767711639404}}}\u001b[0m\n",
      "\u001b[34m#metrics {\"StartTime\": 1679757982.1375422, \"EndTime\": 1679757982.137562, \"Dimensions\": {\"Algorithm\": \"Linear Learner\", \"Host\": \"algo-1\", \"Operation\": \"training\", \"epoch\": 2, \"model\": 27}, \"Metrics\": {\"train_absolute_loss_objective\": {\"sum\": 0.8829770469665528, \"count\": 1, \"min\": 0.8829770469665528, \"max\": 0.8829770469665528}}}\u001b[0m\n",
      "\u001b[34m#metrics {\"StartTime\": 1679757982.1376235, \"EndTime\": 1679757982.137643, \"Dimensions\": {\"Algorithm\": \"Linear Learner\", \"Host\": \"algo-1\", \"Operation\": \"training\", \"epoch\": 2, \"model\": 28}, \"Metrics\": {\"train_absolute_loss_objective\": {\"sum\": 0.9776408863067627, \"count\": 1, \"min\": 0.9776408863067627, \"max\": 0.9776408863067627}}}\u001b[0m\n",
      "\u001b[34m#metrics {\"StartTime\": 1679757982.1377046, \"EndTime\": 1679757982.1377227, \"Dimensions\": {\"Algorithm\": \"Linear Learner\", \"Host\": \"algo-1\", \"Operation\": \"training\", \"epoch\": 2, \"model\": 29}, \"Metrics\": {\"train_absolute_loss_objective\": {\"sum\": 0.9792172908782959, \"count\": 1, \"min\": 0.9792172908782959, \"max\": 0.9792172908782959}}}\u001b[0m\n",
      "\u001b[34m#metrics {\"StartTime\": 1679757982.1377838, \"EndTime\": 1679757982.1378012, \"Dimensions\": {\"Algorithm\": \"Linear Learner\", \"Host\": \"algo-1\", \"Operation\": \"training\", \"epoch\": 2, \"model\": 30}, \"Metrics\": {\"train_absolute_loss_objective\": {\"sum\": 1.0624050903320312, \"count\": 1, \"min\": 1.0624050903320312, \"max\": 1.0624050903320312}}}\u001b[0m\n",
      "\u001b[34m#metrics {\"StartTime\": 1679757982.1379046, \"EndTime\": 1679757982.1379251, \"Dimensions\": {\"Algorithm\": \"Linear Learner\", \"Host\": \"algo-1\", \"Operation\": \"training\", \"epoch\": 2, \"model\": 31}, \"Metrics\": {\"train_absolute_loss_objective\": {\"sum\": 1.0528772354125977, \"count\": 1, \"min\": 1.0528772354125977, \"max\": 1.0528772354125977}}}\u001b[0m\n",
      "\u001b[34m[03/25/2023 15:26:22 INFO 139677631850304] #quality_metric: host=algo-1, epoch=2, train absolute_loss_objective <loss>=0.8368638229370117\u001b[0m\n",
      "\u001b[34m[03/25/2023 15:26:22 INFO 139677631850304] #early_stopping_criteria_metric: host=algo-1, epoch=2, criteria=absolute_loss_objective, value=0.1823056411743164\u001b[0m\n",
      "\u001b[34m[03/25/2023 15:26:22 INFO 139677631850304] Epoch 2: Loss improved. Updating best model\u001b[0m\n",
      "\u001b[34m[03/25/2023 15:26:22 INFO 139677631850304] Saving model for epoch: 2\u001b[0m\n",
      "\u001b[34m[03/25/2023 15:26:22 INFO 139677631850304] Saved checkpoint to \"/tmp/tmpjw4pk4z6/mx-mod-0000.params\"\u001b[0m\n",
      "\u001b[34m[03/25/2023 15:26:22 INFO 139677631850304] #progress_metric: host=algo-1, completed 60.0 % of epochs\u001b[0m\n",
      "\u001b[34m#metrics {\"StartTime\": 1679757982.0267372, \"EndTime\": 1679757982.1465433, \"Dimensions\": {\"Algorithm\": \"Linear Learner\", \"Host\": \"algo-1\", \"Operation\": \"training\", \"epoch\": 2, \"Meta\": \"training_data_iter\"}, \"Metrics\": {\"Total Records Seen\": {\"sum\": 109.0, \"count\": 1, \"min\": 109, \"max\": 109}, \"Total Batches Seen\": {\"sum\": 25.0, \"count\": 1, \"min\": 25, \"max\": 25}, \"Max Records Seen Between Resets\": {\"sum\": 26.0, \"count\": 1, \"min\": 26, \"max\": 26}, \"Max Batches Seen Between Resets\": {\"sum\": 6.0, \"count\": 1, \"min\": 6, \"max\": 6}, \"Reset Count\": {\"sum\": 5.0, \"count\": 1, \"min\": 5, \"max\": 5}, \"Number of Records Since Last Reset\": {\"sum\": 26.0, \"count\": 1, \"min\": 26, \"max\": 26}, \"Number of Batches Since Last Reset\": {\"sum\": 6.0, \"count\": 1, \"min\": 6, \"max\": 6}}}\u001b[0m\n",
      "\u001b[34m[03/25/2023 15:26:22 INFO 139677631850304] #throughput_metric: host=algo-1, train throughput=216.7633434838956 records/second\u001b[0m\n",
      "\u001b[34m[2023-03-25 15:26:22.246] [tensorio] [info] epoch_stats={\"data_pipeline\": \"/opt/ml/input/data/train\", \"epoch\": 10, \"duration\": 99, \"num_examples\": 6, \"num_bytes\": 1248}\u001b[0m\n",
      "\u001b[34m#metrics {\"StartTime\": 1679757982.2465417, \"EndTime\": 1679757982.2465937, \"Dimensions\": {\"Algorithm\": \"Linear Learner\", \"Host\": \"algo-1\", \"Operation\": \"training\", \"epoch\": 3, \"model\": 0}, \"Metrics\": {\"train_absolute_loss_objective\": {\"sum\": 0.8148279857635498, \"count\": 1, \"min\": 0.8148279857635498, \"max\": 0.8148279857635498}}}\u001b[0m\n",
      "\u001b[34m#metrics {\"StartTime\": 1679757982.246659, \"EndTime\": 1679757982.2466722, \"Dimensions\": {\"Algorithm\": \"Linear Learner\", \"Host\": \"algo-1\", \"Operation\": \"training\", \"epoch\": 3, \"model\": 1}, \"Metrics\": {\"train_absolute_loss_objective\": {\"sum\": 0.834179630279541, \"count\": 1, \"min\": 0.834179630279541, \"max\": 0.834179630279541}}}\u001b[0m\n",
      "\u001b[34m#metrics {\"StartTime\": 1679757982.246701, \"EndTime\": 1679757982.2467093, \"Dimensions\": {\"Algorithm\": \"Linear Learner\", \"Host\": \"algo-1\", \"Operation\": \"training\", \"epoch\": 3, \"model\": 2}, \"Metrics\": {\"train_absolute_loss_objective\": {\"sum\": 0.8172051429748535, \"count\": 1, \"min\": 0.8172051429748535, \"max\": 0.8172051429748535}}}\u001b[0m\n",
      "\u001b[34m#metrics {\"StartTime\": 1679757982.2467337, \"EndTime\": 1679757982.246741, \"Dimensions\": {\"Algorithm\": \"Linear Learner\", \"Host\": \"algo-1\", \"Operation\": \"training\", \"epoch\": 3, \"model\": 3}, \"Metrics\": {\"train_absolute_loss_objective\": {\"sum\": 0.833176794052124, \"count\": 1, \"min\": 0.833176794052124, \"max\": 0.833176794052124}}}\u001b[0m\n",
      "\u001b[34m#metrics {\"StartTime\": 1679757982.2467632, \"EndTime\": 1679757982.2467706, \"Dimensions\": {\"Algorithm\": \"Linear Learner\", \"Host\": \"algo-1\", \"Operation\": \"training\", \"epoch\": 3, \"model\": 4}, \"Metrics\": {\"train_absolute_loss_objective\": {\"sum\": 0.27993759632110593, \"count\": 1, \"min\": 0.27993759632110593, \"max\": 0.27993759632110593}}}\u001b[0m\n",
      "\u001b[34m#metrics {\"StartTime\": 1679757982.246798, \"EndTime\": 1679757982.2468052, \"Dimensions\": {\"Algorithm\": \"Linear Learner\", \"Host\": \"algo-1\", \"Operation\": \"training\", \"epoch\": 3, \"model\": 5}, \"Metrics\": {\"train_absolute_loss_objective\": {\"sum\": 0.276371750831604, \"count\": 1, \"min\": 0.276371750831604, \"max\": 0.276371750831604}}}\u001b[0m\n",
      "\u001b[34m#metrics {\"StartTime\": 1679757982.2468295, \"EndTime\": 1679757982.2468371, \"Dimensions\": {\"Algorithm\": \"Linear Learner\", \"Host\": \"algo-1\", \"Operation\": \"training\", \"epoch\": 3, \"model\": 6}, \"Metrics\": {\"train_absolute_loss_objective\": {\"sum\": 0.451191873550415, \"count\": 1, \"min\": 0.451191873550415, \"max\": 0.451191873550415}}}\u001b[0m\n",
      "\u001b[34m#metrics {\"StartTime\": 1679757982.2468596, \"EndTime\": 1679757982.2468665, \"Dimensions\": {\"Algorithm\": \"Linear Learner\", \"Host\": \"algo-1\", \"Operation\": \"training\", \"epoch\": 3, \"model\": 7}, \"Metrics\": {\"train_absolute_loss_objective\": {\"sum\": 0.46284271717071535, \"count\": 1, \"min\": 0.46284271717071535, \"max\": 0.46284271717071535}}}\u001b[0m\n",
      "\u001b[34m#metrics {\"StartTime\": 1679757982.2468884, \"EndTime\": 1679757982.246895, \"Dimensions\": {\"Algorithm\": \"Linear Learner\", \"Host\": \"algo-1\", \"Operation\": \"training\", \"epoch\": 3, \"model\": 8}, \"Metrics\": {\"train_absolute_loss_objective\": {\"sum\": 0.869928560256958, \"count\": 1, \"min\": 0.869928560256958, \"max\": 0.869928560256958}}}\u001b[0m\n",
      "\u001b[34m#metrics {\"StartTime\": 1679757982.2469163, \"EndTime\": 1679757982.246923, \"Dimensions\": {\"Algorithm\": \"Linear Learner\", \"Host\": \"algo-1\", \"Operation\": \"training\", \"epoch\": 3, \"model\": 9}, \"Metrics\": {\"train_absolute_loss_objective\": {\"sum\": 0.8027042484283448, \"count\": 1, \"min\": 0.8027042484283448, \"max\": 0.8027042484283448}}}\u001b[0m\n",
      "\u001b[34m#metrics {\"StartTime\": 1679757982.2469442, \"EndTime\": 1679757982.246951, \"Dimensions\": {\"Algorithm\": \"Linear Learner\", \"Host\": \"algo-1\", \"Operation\": \"training\", \"epoch\": 3, \"model\": 10}, \"Metrics\": {\"train_absolute_loss_objective\": {\"sum\": 0.8095789241790772, \"count\": 1, \"min\": 0.8095789241790772, \"max\": 0.8095789241790772}}}\u001b[0m\n",
      "\u001b[34m#metrics {\"StartTime\": 1679757982.246972, \"EndTime\": 1679757982.2469788, \"Dimensions\": {\"Algorithm\": \"Linear Learner\", \"Host\": \"algo-1\", \"Operation\": \"training\", \"epoch\": 3, \"model\": 11}, \"Metrics\": {\"train_absolute_loss_objective\": {\"sum\": 0.7947067260742188, \"count\": 1, \"min\": 0.7947067260742188, \"max\": 0.7947067260742188}}}\u001b[0m\n",
      "\u001b[34m#metrics {\"StartTime\": 1679757982.247, \"EndTime\": 1679757982.2470067, \"Dimensions\": {\"Algorithm\": \"Linear Learner\", \"Host\": \"algo-1\", \"Operation\": \"training\", \"epoch\": 3, \"model\": 12}, \"Metrics\": {\"train_absolute_loss_objective\": {\"sum\": 0.2728856658935547, \"count\": 1, \"min\": 0.2728856658935547, \"max\": 0.2728856658935547}}}\u001b[0m\n",
      "\u001b[34m#metrics {\"StartTime\": 1679757982.2470303, \"EndTime\": 1679757982.2470376, \"Dimensions\": {\"Algorithm\": \"Linear Learner\", \"Host\": \"algo-1\", \"Operation\": \"training\", \"epoch\": 3, \"model\": 13}, \"Metrics\": {\"train_absolute_loss_objective\": {\"sum\": 0.30733580589294435, \"count\": 1, \"min\": 0.30733580589294435, \"max\": 0.30733580589294435}}}\u001b[0m\n",
      "\u001b[34m#metrics {\"StartTime\": 1679757982.2470593, \"EndTime\": 1679757982.2470667, \"Dimensions\": {\"Algorithm\": \"Linear Learner\", \"Host\": \"algo-1\", \"Operation\": \"training\", \"epoch\": 3, \"model\": 14}, \"Metrics\": {\"train_absolute_loss_objective\": {\"sum\": 0.2735313129425049, \"count\": 1, \"min\": 0.2735313129425049, \"max\": 0.2735313129425049}}}\u001b[0m\n",
      "\u001b[34m#metrics {\"StartTime\": 1679757982.2470875, \"EndTime\": 1679757982.2470942, \"Dimensions\": {\"Algorithm\": \"Linear Learner\", \"Host\": \"algo-1\", \"Operation\": \"training\", \"epoch\": 3, \"model\": 15}, \"Metrics\": {\"train_absolute_loss_objective\": {\"sum\": 0.35597947120666507, \"count\": 1, \"min\": 0.35597947120666507, \"max\": 0.35597947120666507}}}\u001b[0m\n",
      "\u001b[34m#metrics {\"StartTime\": 1679757982.2471156, \"EndTime\": 1679757982.2471223, \"Dimensions\": {\"Algorithm\": \"Linear Learner\", \"Host\": \"algo-1\", \"Operation\": \"training\", \"epoch\": 3, \"model\": 16}, \"Metrics\": {\"train_absolute_loss_objective\": {\"sum\": 0.7800943946838379, \"count\": 1, \"min\": 0.7800943946838379, \"max\": 0.7800943946838379}}}\u001b[0m\n",
      "\u001b[34m#metrics {\"StartTime\": 1679757982.247143, \"EndTime\": 1679757982.2471497, \"Dimensions\": {\"Algorithm\": \"Linear Learner\", \"Host\": \"algo-1\", \"Operation\": \"training\", \"epoch\": 3, \"model\": 17}, \"Metrics\": {\"train_absolute_loss_objective\": {\"sum\": 0.8299501037597656, \"count\": 1, \"min\": 0.8299501037597656, \"max\": 0.8299501037597656}}}\u001b[0m\n",
      "\u001b[34m#metrics {\"StartTime\": 1679757982.2471704, \"EndTime\": 1679757982.2471774, \"Dimensions\": {\"Algorithm\": \"Linear Learner\", \"Host\": \"algo-1\", \"Operation\": \"training\", \"epoch\": 3, \"model\": 18}, \"Metrics\": {\"train_absolute_loss_objective\": {\"sum\": 0.8065537452697754, \"count\": 1, \"min\": 0.8065537452697754, \"max\": 0.8065537452697754}}}\u001b[0m\n",
      "\u001b[34m#metrics {\"StartTime\": 1679757982.2472005, \"EndTime\": 1679757982.2472076, \"Dimensions\": {\"Algorithm\": \"Linear Learner\", \"Host\": \"algo-1\", \"Operation\": \"training\", \"epoch\": 3, \"model\": 19}, \"Metrics\": {\"train_absolute_loss_objective\": {\"sum\": 0.8036442756652832, \"count\": 1, \"min\": 0.8036442756652832, \"max\": 0.8036442756652832}}}\u001b[0m\n",
      "\u001b[34m#metrics {\"StartTime\": 1679757982.2472293, \"EndTime\": 1679757982.2472363, \"Dimensions\": {\"Algorithm\": \"Linear Learner\", \"Host\": \"algo-1\", \"Operation\": \"training\", \"epoch\": 3, \"model\": 20}, \"Metrics\": {\"train_absolute_loss_objective\": {\"sum\": 0.35973429203033447, \"count\": 1, \"min\": 0.35973429203033447, \"max\": 0.35973429203033447}}}\u001b[0m\n",
      "\u001b[34m#metrics {\"StartTime\": 1679757982.2472572, \"EndTime\": 1679757982.2472641, \"Dimensions\": {\"Algorithm\": \"Linear Learner\", \"Host\": \"algo-1\", \"Operation\": \"training\", \"epoch\": 3, \"model\": 21}, \"Metrics\": {\"train_absolute_loss_objective\": {\"sum\": 0.36113404750823974, \"count\": 1, \"min\": 0.36113404750823974, \"max\": 0.36113404750823974}}}\u001b[0m\n",
      "\u001b[34m#metrics {\"StartTime\": 1679757982.2472856, \"EndTime\": 1679757982.247292, \"Dimensions\": {\"Algorithm\": \"Linear Learner\", \"Host\": \"algo-1\", \"Operation\": \"training\", \"epoch\": 3, \"model\": 22}, \"Metrics\": {\"train_absolute_loss_objective\": {\"sum\": 0.2576094651222229, \"count\": 1, \"min\": 0.2576094651222229, \"max\": 0.2576094651222229}}}\u001b[0m\n",
      "\u001b[34m#metrics {\"StartTime\": 1679757982.2473152, \"EndTime\": 1679757982.2473223, \"Dimensions\": {\"Algorithm\": \"Linear Learner\", \"Host\": \"algo-1\", \"Operation\": \"training\", \"epoch\": 3, \"model\": 23}, \"Metrics\": {\"train_absolute_loss_objective\": {\"sum\": 0.36131266593933103, \"count\": 1, \"min\": 0.36131266593933103, \"max\": 0.36131266593933103}}}\u001b[0m\n",
      "\u001b[34m#metrics {\"StartTime\": 1679757982.2473438, \"EndTime\": 1679757982.2473507, \"Dimensions\": {\"Algorithm\": \"Linear Learner\", \"Host\": \"algo-1\", \"Operation\": \"training\", \"epoch\": 3, \"model\": 24}, \"Metrics\": {\"train_absolute_loss_objective\": {\"sum\": 0.8885245800018311, \"count\": 1, \"min\": 0.8885245800018311, \"max\": 0.8885245800018311}}}\u001b[0m\n",
      "\u001b[34m#metrics {\"StartTime\": 1679757982.2473714, \"EndTime\": 1679757982.247378, \"Dimensions\": {\"Algorithm\": \"Linear Learner\", \"Host\": \"algo-1\", \"Operation\": \"training\", \"epoch\": 3, \"model\": 25}, \"Metrics\": {\"train_absolute_loss_objective\": {\"sum\": 0.8702408027648926, \"count\": 1, \"min\": 0.8702408027648926, \"max\": 0.8702408027648926}}}\u001b[0m\n",
      "\u001b[34m#metrics {\"StartTime\": 1679757982.2473996, \"EndTime\": 1679757982.2474065, \"Dimensions\": {\"Algorithm\": \"Linear Learner\", \"Host\": \"algo-1\", \"Operation\": \"training\", \"epoch\": 3, \"model\": 26}, \"Metrics\": {\"train_absolute_loss_objective\": {\"sum\": 0.8775682163238525, \"count\": 1, \"min\": 0.8775682163238525, \"max\": 0.8775682163238525}}}\u001b[0m\n",
      "\u001b[34m#metrics {\"StartTime\": 1679757982.2474294, \"EndTime\": 1679757982.2474365, \"Dimensions\": {\"Algorithm\": \"Linear Learner\", \"Host\": \"algo-1\", \"Operation\": \"training\", \"epoch\": 3, \"model\": 27}, \"Metrics\": {\"train_absolute_loss_objective\": {\"sum\": 0.8827650260925293, \"count\": 1, \"min\": 0.8827650260925293, \"max\": 0.8827650260925293}}}\u001b[0m\n",
      "\u001b[34m#metrics {\"StartTime\": 1679757982.247458, \"EndTime\": 1679757982.2474651, \"Dimensions\": {\"Algorithm\": \"Linear Learner\", \"Host\": \"algo-1\", \"Operation\": \"training\", \"epoch\": 3, \"model\": 28}, \"Metrics\": {\"train_absolute_loss_objective\": {\"sum\": 0.9376195812225342, \"count\": 1, \"min\": 0.9376195812225342, \"max\": 0.9376195812225342}}}\u001b[0m\n",
      "\u001b[34m#metrics {\"StartTime\": 1679757982.247488, \"EndTime\": 1679757982.2474952, \"Dimensions\": {\"Algorithm\": \"Linear Learner\", \"Host\": \"algo-1\", \"Operation\": \"training\", \"epoch\": 3, \"model\": 29}, \"Metrics\": {\"train_absolute_loss_objective\": {\"sum\": 0.9385412502288818, \"count\": 1, \"min\": 0.9385412502288818, \"max\": 0.9385412502288818}}}\u001b[0m\n",
      "\u001b[34m#metrics {\"StartTime\": 1679757982.2475164, \"EndTime\": 1679757982.247523, \"Dimensions\": {\"Algorithm\": \"Linear Learner\", \"Host\": \"algo-1\", \"Operation\": \"training\", \"epoch\": 3, \"model\": 30}, \"Metrics\": {\"train_absolute_loss_objective\": {\"sum\": 0.9729341697692871, \"count\": 1, \"min\": 0.9729341697692871, \"max\": 0.9729341697692871}}}\u001b[0m\n",
      "\u001b[34m#metrics {\"StartTime\": 1679757982.247544, \"EndTime\": 1679757982.247551, \"Dimensions\": {\"Algorithm\": \"Linear Learner\", \"Host\": \"algo-1\", \"Operation\": \"training\", \"epoch\": 3, \"model\": 31}, \"Metrics\": {\"train_absolute_loss_objective\": {\"sum\": 0.9689571380615234, \"count\": 1, \"min\": 0.9689571380615234, \"max\": 0.9689571380615234}}}\u001b[0m\n",
      "\u001b[34m[03/25/2023 15:26:22 INFO 139677631850304] #quality_metric: host=algo-1, epoch=3, train absolute_loss_objective <loss>=0.8148279857635498\u001b[0m\n",
      "\u001b[34m[03/25/2023 15:26:22 INFO 139677631850304] #early_stopping_criteria_metric: host=algo-1, epoch=3, criteria=absolute_loss_objective, value=0.2576094651222229\u001b[0m\n",
      "\u001b[34m[03/25/2023 15:26:22 INFO 139677631850304] Saving model for epoch: 3\u001b[0m\n",
      "\u001b[34m[03/25/2023 15:26:22 INFO 139677631850304] Saved checkpoint to \"/tmp/tmpbkxpo3rl/mx-mod-0000.params\"\u001b[0m\n",
      "\u001b[34m[03/25/2023 15:26:22 INFO 139677631850304] #progress_metric: host=algo-1, completed 80.0 % of epochs\u001b[0m\n",
      "\u001b[34m#metrics {\"StartTime\": 1679757982.1468456, \"EndTime\": 1679757982.254536, \"Dimensions\": {\"Algorithm\": \"Linear Learner\", \"Host\": \"algo-1\", \"Operation\": \"training\", \"epoch\": 3, \"Meta\": \"training_data_iter\"}, \"Metrics\": {\"Total Records Seen\": {\"sum\": 135.0, \"count\": 1, \"min\": 135, \"max\": 135}, \"Total Batches Seen\": {\"sum\": 31.0, \"count\": 1, \"min\": 31, \"max\": 31}, \"Max Records Seen Between Resets\": {\"sum\": 26.0, \"count\": 1, \"min\": 26, \"max\": 26}, \"Max Batches Seen Between Resets\": {\"sum\": 6.0, \"count\": 1, \"min\": 6, \"max\": 6}, \"Reset Count\": {\"sum\": 6.0, \"count\": 1, \"min\": 6, \"max\": 6}, \"Number of Records Since Last Reset\": {\"sum\": 26.0, \"count\": 1, \"min\": 26, \"max\": 26}, \"Number of Batches Since Last Reset\": {\"sum\": 6.0, \"count\": 1, \"min\": 6, \"max\": 6}}}\u001b[0m\n",
      "\u001b[34m[03/25/2023 15:26:22 INFO 139677631850304] #throughput_metric: host=algo-1, train throughput=241.1676334581353 records/second\u001b[0m\n",
      "\u001b[34m[2023-03-25 15:26:22.380] [tensorio] [info] epoch_stats={\"data_pipeline\": \"/opt/ml/input/data/train\", \"epoch\": 12, \"duration\": 125, \"num_examples\": 6, \"num_bytes\": 1248}\u001b[0m\n",
      "\u001b[34m#metrics {\"StartTime\": 1679757982.3809085, \"EndTime\": 1679757982.380963, \"Dimensions\": {\"Algorithm\": \"Linear Learner\", \"Host\": \"algo-1\", \"Operation\": \"training\", \"epoch\": 4, \"model\": 0}, \"Metrics\": {\"train_absolute_loss_objective\": {\"sum\": 0.7935765647888183, \"count\": 1, \"min\": 0.7935765647888183, \"max\": 0.7935765647888183}}}\u001b[0m\n",
      "\u001b[34m#metrics {\"StartTime\": 1679757982.3810334, \"EndTime\": 1679757982.381047, \"Dimensions\": {\"Algorithm\": \"Linear Learner\", \"Host\": \"algo-1\", \"Operation\": \"training\", \"epoch\": 4, \"model\": 1}, \"Metrics\": {\"train_absolute_loss_objective\": {\"sum\": 0.8131350803375245, \"count\": 1, \"min\": 0.8131350803375245, \"max\": 0.8131350803375245}}}\u001b[0m\n",
      "\u001b[34m#metrics {\"StartTime\": 1679757982.3810835, \"EndTime\": 1679757982.381093, \"Dimensions\": {\"Algorithm\": \"Linear Learner\", \"Host\": \"algo-1\", \"Operation\": \"training\", \"epoch\": 4, \"model\": 2}, \"Metrics\": {\"train_absolute_loss_objective\": {\"sum\": 0.7960054016113282, \"count\": 1, \"min\": 0.7960054016113282, \"max\": 0.7960054016113282}}}\u001b[0m\n",
      "\u001b[34m#metrics {\"StartTime\": 1679757982.38112, \"EndTime\": 1679757982.3811278, \"Dimensions\": {\"Algorithm\": \"Linear Learner\", \"Host\": \"algo-1\", \"Operation\": \"training\", \"epoch\": 4, \"model\": 3}, \"Metrics\": {\"train_absolute_loss_objective\": {\"sum\": 0.8121104145050049, \"count\": 1, \"min\": 0.8121104145050049, \"max\": 0.8121104145050049}}}\u001b[0m\n",
      "\u001b[34m#metrics {\"StartTime\": 1679757982.3811507, \"EndTime\": 1679757982.381158, \"Dimensions\": {\"Algorithm\": \"Linear Learner\", \"Host\": \"algo-1\", \"Operation\": \"training\", \"epoch\": 4, \"model\": 4}, \"Metrics\": {\"train_absolute_loss_objective\": {\"sum\": 0.26056074380874633, \"count\": 1, \"min\": 0.26056074380874633, \"max\": 0.26056074380874633}}}\u001b[0m\n",
      "\u001b[34m#metrics {\"StartTime\": 1679757982.3811862, \"EndTime\": 1679757982.3811991, \"Dimensions\": {\"Algorithm\": \"Linear Learner\", \"Host\": \"algo-1\", \"Operation\": \"training\", \"epoch\": 4, \"model\": 5}, \"Metrics\": {\"train_absolute_loss_objective\": {\"sum\": 0.2480279040336609, \"count\": 1, \"min\": 0.2480279040336609, \"max\": 0.2480279040336609}}}\u001b[0m\n",
      "\u001b[34m#metrics {\"StartTime\": 1679757982.3812501, \"EndTime\": 1679757982.3812876, \"Dimensions\": {\"Algorithm\": \"Linear Learner\", \"Host\": \"algo-1\", \"Operation\": \"training\", \"epoch\": 4, \"model\": 6}, \"Metrics\": {\"train_absolute_loss_objective\": {\"sum\": 0.29594077825546267, \"count\": 1, \"min\": 0.29594077825546267, \"max\": 0.29594077825546267}}}\u001b[0m\n",
      "\u001b[34m#metrics {\"StartTime\": 1679757982.3813524, \"EndTime\": 1679757982.3813696, \"Dimensions\": {\"Algorithm\": \"Linear Learner\", \"Host\": \"algo-1\", \"Operation\": \"training\", \"epoch\": 4, \"model\": 7}, \"Metrics\": {\"train_absolute_loss_objective\": {\"sum\": 0.30743181467056274, \"count\": 1, \"min\": 0.30743181467056274, \"max\": 0.30743181467056274}}}\u001b[0m\n",
      "\u001b[34m#metrics {\"StartTime\": 1679757982.3814235, \"EndTime\": 1679757982.38144, \"Dimensions\": {\"Algorithm\": \"Linear Learner\", \"Host\": \"algo-1\", \"Operation\": \"training\", \"epoch\": 4, \"model\": 8}, \"Metrics\": {\"train_absolute_loss_objective\": {\"sum\": 0.8498778915405274, \"count\": 1, \"min\": 0.8498778915405274, \"max\": 0.8498778915405274}}}\u001b[0m\n",
      "\u001b[34m#metrics {\"StartTime\": 1679757982.3814902, \"EndTime\": 1679757982.3815074, \"Dimensions\": {\"Algorithm\": \"Linear Learner\", \"Host\": \"algo-1\", \"Operation\": \"training\", \"epoch\": 4, \"model\": 9}, \"Metrics\": {\"train_absolute_loss_objective\": {\"sum\": 0.7809808349609375, \"count\": 1, \"min\": 0.7809808349609375, \"max\": 0.7809808349609375}}}\u001b[0m\n",
      "\u001b[34m#metrics {\"StartTime\": 1679757982.3815584, \"EndTime\": 1679757982.3815756, \"Dimensions\": {\"Algorithm\": \"Linear Learner\", \"Host\": \"algo-1\", \"Operation\": \"training\", \"epoch\": 4, \"model\": 10}, \"Metrics\": {\"train_absolute_loss_objective\": {\"sum\": 0.7882182979583741, \"count\": 1, \"min\": 0.7882182979583741, \"max\": 0.7882182979583741}}}\u001b[0m\n",
      "\u001b[34m#metrics {\"StartTime\": 1679757982.381625, \"EndTime\": 1679757982.3816411, \"Dimensions\": {\"Algorithm\": \"Linear Learner\", \"Host\": \"algo-1\", \"Operation\": \"training\", \"epoch\": 4, \"model\": 11}, \"Metrics\": {\"train_absolute_loss_objective\": {\"sum\": 0.7728097152709961, \"count\": 1, \"min\": 0.7728097152709961, \"max\": 0.7728097152709961}}}\u001b[0m\n",
      "\u001b[34m#metrics {\"StartTime\": 1679757982.3816924, \"EndTime\": 1679757982.381709, \"Dimensions\": {\"Algorithm\": \"Linear Learner\", \"Host\": \"algo-1\", \"Operation\": \"training\", \"epoch\": 4, \"model\": 12}, \"Metrics\": {\"train_absolute_loss_objective\": {\"sum\": 0.23939606189727783, \"count\": 1, \"min\": 0.23939606189727783, \"max\": 0.23939606189727783}}}\u001b[0m\n",
      "\u001b[34m#metrics {\"StartTime\": 1679757982.381768, \"EndTime\": 1679757982.3817854, \"Dimensions\": {\"Algorithm\": \"Linear Learner\", \"Host\": \"algo-1\", \"Operation\": \"training\", \"epoch\": 4, \"model\": 13}, \"Metrics\": {\"train_absolute_loss_objective\": {\"sum\": 0.23796013355255127, \"count\": 1, \"min\": 0.23796013355255127, \"max\": 0.23796013355255127}}}\u001b[0m\n",
      "\u001b[34m#metrics {\"StartTime\": 1679757982.381834, \"EndTime\": 1679757982.3818505, \"Dimensions\": {\"Algorithm\": \"Linear Learner\", \"Host\": \"algo-1\", \"Operation\": \"training\", \"epoch\": 4, \"model\": 14}, \"Metrics\": {\"train_absolute_loss_objective\": {\"sum\": 0.24012879133224488, \"count\": 1, \"min\": 0.24012879133224488, \"max\": 0.24012879133224488}}}\u001b[0m\n",
      "\u001b[34m#metrics {\"StartTime\": 1679757982.3818977, \"EndTime\": 1679757982.381915, \"Dimensions\": {\"Algorithm\": \"Linear Learner\", \"Host\": \"algo-1\", \"Operation\": \"training\", \"epoch\": 4, \"model\": 15}, \"Metrics\": {\"train_absolute_loss_objective\": {\"sum\": 0.2378023910522461, \"count\": 1, \"min\": 0.2378023910522461, \"max\": 0.2378023910522461}}}\u001b[0m\n",
      "\u001b[34m#metrics {\"StartTime\": 1679757982.3819735, \"EndTime\": 1679757982.3819916, \"Dimensions\": {\"Algorithm\": \"Linear Learner\", \"Host\": \"algo-1\", \"Operation\": \"training\", \"epoch\": 4, \"model\": 16}, \"Metrics\": {\"train_absolute_loss_objective\": {\"sum\": 0.7587272644042968, \"count\": 1, \"min\": 0.7587272644042968, \"max\": 0.7587272644042968}}}\u001b[0m\n",
      "\u001b[34m#metrics {\"StartTime\": 1679757982.38204, \"EndTime\": 1679757982.3820577, \"Dimensions\": {\"Algorithm\": \"Linear Learner\", \"Host\": \"algo-1\", \"Operation\": \"training\", \"epoch\": 4, \"model\": 17}, \"Metrics\": {\"train_absolute_loss_objective\": {\"sum\": 0.8092884540557861, \"count\": 1, \"min\": 0.8092884540557861, \"max\": 0.8092884540557861}}}\u001b[0m\n",
      "\u001b[34m#metrics {\"StartTime\": 1679757982.3821046, \"EndTime\": 1679757982.38212, \"Dimensions\": {\"Algorithm\": \"Linear Learner\", \"Host\": \"algo-1\", \"Operation\": \"training\", \"epoch\": 4, \"model\": 18}, \"Metrics\": {\"train_absolute_loss_objective\": {\"sum\": 0.7856662940979003, \"count\": 1, \"min\": 0.7856662940979003, \"max\": 0.7856662940979003}}}\u001b[0m\n",
      "\u001b[34m#metrics {\"StartTime\": 1679757982.382181, \"EndTime\": 1679757982.382198, \"Dimensions\": {\"Algorithm\": \"Linear Learner\", \"Host\": \"algo-1\", \"Operation\": \"training\", \"epoch\": 4, \"model\": 19}, \"Metrics\": {\"train_absolute_loss_objective\": {\"sum\": 0.7824991703033447, \"count\": 1, \"min\": 0.7824991703033447, \"max\": 0.7824991703033447}}}\u001b[0m\n",
      "\u001b[34m#metrics {\"StartTime\": 1679757982.3822582, \"EndTime\": 1679757982.3822768, \"Dimensions\": {\"Algorithm\": \"Linear Learner\", \"Host\": \"algo-1\", \"Operation\": \"training\", \"epoch\": 4, \"model\": 20}, \"Metrics\": {\"train_absolute_loss_objective\": {\"sum\": 0.4178618907928467, \"count\": 1, \"min\": 0.4178618907928467, \"max\": 0.4178618907928467}}}\u001b[0m\n",
      "\u001b[34m#metrics {\"StartTime\": 1679757982.3823266, \"EndTime\": 1679757982.3823426, \"Dimensions\": {\"Algorithm\": \"Linear Learner\", \"Host\": \"algo-1\", \"Operation\": \"training\", \"epoch\": 4, \"model\": 21}, \"Metrics\": {\"train_absolute_loss_objective\": {\"sum\": 0.41216507434844973, \"count\": 1, \"min\": 0.41216507434844973, \"max\": 0.41216507434844973}}}\u001b[0m\n",
      "\u001b[34m#metrics {\"StartTime\": 1679757982.3824008, \"EndTime\": 1679757982.3824193, \"Dimensions\": {\"Algorithm\": \"Linear Learner\", \"Host\": \"algo-1\", \"Operation\": \"training\", \"epoch\": 4, \"model\": 22}, \"Metrics\": {\"train_absolute_loss_objective\": {\"sum\": 0.29496901988983154, \"count\": 1, \"min\": 0.29496901988983154, \"max\": 0.29496901988983154}}}\u001b[0m\n",
      "\u001b[34m#metrics {\"StartTime\": 1679757982.3824735, \"EndTime\": 1679757982.3824906, \"Dimensions\": {\"Algorithm\": \"Linear Learner\", \"Host\": \"algo-1\", \"Operation\": \"training\", \"epoch\": 4, \"model\": 23}, \"Metrics\": {\"train_absolute_loss_objective\": {\"sum\": 0.46480159759521483, \"count\": 1, \"min\": 0.46480159759521483, \"max\": 0.46480159759521483}}}\u001b[0m\n",
      "\u001b[34m#metrics {\"StartTime\": 1679757982.3825448, \"EndTime\": 1679757982.3825614, \"Dimensions\": {\"Algorithm\": \"Linear Learner\", \"Host\": \"algo-1\", \"Operation\": \"training\", \"epoch\": 4, \"model\": 24}, \"Metrics\": {\"train_absolute_loss_objective\": {\"sum\": 0.891893720626831, \"count\": 1, \"min\": 0.891893720626831, \"max\": 0.891893720626831}}}\u001b[0m\n",
      "\u001b[34m#metrics {\"StartTime\": 1679757982.3826115, \"EndTime\": 1679757982.382629, \"Dimensions\": {\"Algorithm\": \"Linear Learner\", \"Host\": \"algo-1\", \"Operation\": \"training\", \"epoch\": 4, \"model\": 25}, \"Metrics\": {\"train_absolute_loss_objective\": {\"sum\": 0.8745030879974365, \"count\": 1, \"min\": 0.8745030879974365, \"max\": 0.8745030879974365}}}\u001b[0m\n",
      "\u001b[34m#metrics {\"StartTime\": 1679757982.3826852, \"EndTime\": 1679757982.3827012, \"Dimensions\": {\"Algorithm\": \"Linear Learner\", \"Host\": \"algo-1\", \"Operation\": \"training\", \"epoch\": 4, \"model\": 26}, \"Metrics\": {\"train_absolute_loss_objective\": {\"sum\": 0.8841349315643311, \"count\": 1, \"min\": 0.8841349315643311, \"max\": 0.8841349315643311}}}\u001b[0m\n",
      "\u001b[34m#metrics {\"StartTime\": 1679757982.3827498, \"EndTime\": 1679757982.3827624, \"Dimensions\": {\"Algorithm\": \"Linear Learner\", \"Host\": \"algo-1\", \"Operation\": \"training\", \"epoch\": 4, \"model\": 27}, \"Metrics\": {\"train_absolute_loss_objective\": {\"sum\": 0.879571533203125, \"count\": 1, \"min\": 0.879571533203125, \"max\": 0.879571533203125}}}\u001b[0m\n",
      "\u001b[34m#metrics {\"StartTime\": 1679757982.3828187, \"EndTime\": 1679757982.382833, \"Dimensions\": {\"Algorithm\": \"Linear Learner\", \"Host\": \"algo-1\", \"Operation\": \"training\", \"epoch\": 4, \"model\": 28}, \"Metrics\": {\"train_absolute_loss_objective\": {\"sum\": 0.8927962112426758, \"count\": 1, \"min\": 0.8927962112426758, \"max\": 0.8927962112426758}}}\u001b[0m\n",
      "\u001b[34m#metrics {\"StartTime\": 1679757982.3828652, \"EndTime\": 1679757982.3828802, \"Dimensions\": {\"Algorithm\": \"Linear Learner\", \"Host\": \"algo-1\", \"Operation\": \"training\", \"epoch\": 4, \"model\": 29}, \"Metrics\": {\"train_absolute_loss_objective\": {\"sum\": 0.8930002975463868, \"count\": 1, \"min\": 0.8930002975463868, \"max\": 0.8930002975463868}}}\u001b[0m\n",
      "\u001b[34m#metrics {\"StartTime\": 1679757982.3829303, \"EndTime\": 1679757982.3829463, \"Dimensions\": {\"Algorithm\": \"Linear Learner\", \"Host\": \"algo-1\", \"Operation\": \"training\", \"epoch\": 4, \"model\": 30}, \"Metrics\": {\"train_absolute_loss_objective\": {\"sum\": 0.9167214775085449, \"count\": 1, \"min\": 0.9167214775085449, \"max\": 0.9167214775085449}}}\u001b[0m\n",
      "\u001b[34m#metrics {\"StartTime\": 1679757982.3830037, \"EndTime\": 1679757982.3830206, \"Dimensions\": {\"Algorithm\": \"Linear Learner\", \"Host\": \"algo-1\", \"Operation\": \"training\", \"epoch\": 4, \"model\": 31}, \"Metrics\": {\"train_absolute_loss_objective\": {\"sum\": 0.928106517791748, \"count\": 1, \"min\": 0.928106517791748, \"max\": 0.928106517791748}}}\u001b[0m\n",
      "\u001b[34m[03/25/2023 15:26:22 INFO 139677631850304] #quality_metric: host=algo-1, epoch=4, train absolute_loss_objective <loss>=0.7935765647888183\u001b[0m\n",
      "\u001b[34m[03/25/2023 15:26:22 INFO 139677631850304] #early_stopping_criteria_metric: host=algo-1, epoch=4, criteria=absolute_loss_objective, value=0.2378023910522461\u001b[0m\n",
      "\u001b[34m[03/25/2023 15:26:22 INFO 139677631850304] Saving model for epoch: 4\u001b[0m\n",
      "\u001b[34m[03/25/2023 15:26:22 INFO 139677631850304] Saved checkpoint to \"/tmp/tmpq_xtbps2/mx-mod-0000.params\"\u001b[0m\n",
      "\u001b[34m[03/25/2023 15:26:22 INFO 139677631850304] #progress_metric: host=algo-1, completed 100.0 % of epochs\u001b[0m\n",
      "\u001b[34m#metrics {\"StartTime\": 1679757982.254806, \"EndTime\": 1679757982.3908114, \"Dimensions\": {\"Algorithm\": \"Linear Learner\", \"Host\": \"algo-1\", \"Operation\": \"training\", \"epoch\": 4, \"Meta\": \"training_data_iter\"}, \"Metrics\": {\"Total Records Seen\": {\"sum\": 161.0, \"count\": 1, \"min\": 161, \"max\": 161}, \"Total Batches Seen\": {\"sum\": 37.0, \"count\": 1, \"min\": 37, \"max\": 37}, \"Max Records Seen Between Resets\": {\"sum\": 26.0, \"count\": 1, \"min\": 26, \"max\": 26}, \"Max Batches Seen Between Resets\": {\"sum\": 6.0, \"count\": 1, \"min\": 6, \"max\": 6}, \"Reset Count\": {\"sum\": 7.0, \"count\": 1, \"min\": 7, \"max\": 7}, \"Number of Records Since Last Reset\": {\"sum\": 26.0, \"count\": 1, \"min\": 26, \"max\": 26}, \"Number of Batches Since Last Reset\": {\"sum\": 6.0, \"count\": 1, \"min\": 6, \"max\": 6}}}\u001b[0m\n",
      "\u001b[34m[03/25/2023 15:26:22 INFO 139677631850304] #throughput_metric: host=algo-1, train throughput=190.97570859419466 records/second\u001b[0m\n",
      "\u001b[34m[03/25/2023 15:26:22 WARNING 139677631850304] wait_for_all_workers will not sync workers since the kv store is not running distributed\u001b[0m\n",
      "\u001b[34m[03/25/2023 15:26:22 WARNING 139677631850304] wait_for_all_workers will not sync workers since the kv store is not running distributed\u001b[0m\n",
      "\u001b[34m[2023-03-25 15:26:22.391] [tensorio] [info] epoch_stats={\"data_pipeline\": \"/opt/ml/input/data/train\", \"epoch\": 14, \"duration\": 0, \"num_examples\": 1, \"num_bytes\": 240}\u001b[0m\n",
      "\u001b[34m[2023-03-25 15:26:22.405] [tensorio] [info] epoch_stats={\"data_pipeline\": \"/opt/ml/input/data/train\", \"epoch\": 16, \"duration\": 10, \"num_examples\": 6, \"num_bytes\": 1248}\u001b[0m\n",
      "\u001b[34m[03/25/2023 15:26:22 INFO 139677631850304] #train_score (algo-1) : ('absolute_loss_objective', 7583.271484375)\u001b[0m\n",
      "\u001b[34m[03/25/2023 15:26:22 INFO 139677631850304] #train_score (algo-1) : ('mse', 92734171.07692307)\u001b[0m\n",
      "\u001b[34m[03/25/2023 15:26:22 INFO 139677631850304] #train_score (algo-1) : ('absolute_loss', 7583.271484375)\u001b[0m\n",
      "\u001b[34m[03/25/2023 15:26:22 INFO 139677631850304] #train_score (algo-1) : ('rmse', 9629.858310324356)\u001b[0m\n",
      "\u001b[34m[03/25/2023 15:26:22 INFO 139677631850304] #train_score (algo-1) : ('r2', 0.8947887429504975)\u001b[0m\n",
      "\u001b[34m[03/25/2023 15:26:22 INFO 139677631850304] #train_score (algo-1) : ('mae', 7583.271484375)\u001b[0m\n",
      "\u001b[34m[03/25/2023 15:26:22 INFO 139677631850304] #quality_metric: host=algo-1, train absolute_loss_objective <loss>=7583.271484375\u001b[0m\n",
      "\u001b[34m[03/25/2023 15:26:22 INFO 139677631850304] #quality_metric: host=algo-1, train mse <loss>=92734171.07692307\u001b[0m\n",
      "\u001b[34m[03/25/2023 15:26:22 INFO 139677631850304] #quality_metric: host=algo-1, train absolute_loss <loss>=7583.271484375\u001b[0m\n",
      "\u001b[34m[03/25/2023 15:26:22 INFO 139677631850304] #quality_metric: host=algo-1, train rmse <loss>=9629.858310324356\u001b[0m\n",
      "\u001b[34m[03/25/2023 15:26:22 INFO 139677631850304] #quality_metric: host=algo-1, train r2 <loss>=0.8947887429504975\u001b[0m\n",
      "\u001b[34m[03/25/2023 15:26:22 INFO 139677631850304] #quality_metric: host=algo-1, train mae <loss>=7583.271484375\u001b[0m\n",
      "\u001b[34m[03/25/2023 15:26:22 INFO 139677631850304] Best model found for hyperparameters: {\"optimizer\": \"adam\", \"learning_rate\": 0.1, \"wd\": 0.01, \"l1\": 0.0, \"lr_scheduler_step\": 100, \"lr_scheduler_factor\": 0.99, \"lr_scheduler_minimum_lr\": 1e-05}\u001b[0m\n",
      "\u001b[34m[03/25/2023 15:26:22 INFO 139677631850304] Saved checkpoint to \"/tmp/tmpkw0vvk0i/mx-mod-0000.params\"\u001b[0m\n",
      "\u001b[34m[03/25/2023 15:26:22 INFO 139677631850304] Test data is not provided.\u001b[0m\n",
      "\u001b[34m#metrics {\"StartTime\": 1679757981.607335, \"EndTime\": 1679757982.413119, \"Dimensions\": {\"Algorithm\": \"Linear Learner\", \"Host\": \"algo-1\", \"Operation\": \"training\"}, \"Metrics\": {\"initialize.time\": {\"sum\": 159.91640090942383, \"count\": 1, \"min\": 159.91640090942383, \"max\": 159.91640090942383}, \"epochs\": {\"sum\": 5.0, \"count\": 1, \"min\": 5, \"max\": 5}, \"check_early_stopping.time\": {\"sum\": 3.840208053588867, \"count\": 5, \"min\": 0.19550323486328125, \"max\": 1.1837482452392578}, \"update.time\": {\"sum\": 606.666088104248, \"count\": 5, \"min\": 105.06892204284668, \"max\": 132.8427791595459}, \"finalize.time\": {\"sum\": 16.726016998291016, \"count\": 1, \"min\": 16.726016998291016, \"max\": 16.726016998291016}, \"setuptime\": {\"sum\": 2.4313926696777344, \"count\": 1, \"min\": 2.4313926696777344, \"max\": 2.4313926696777344}, \"totaltime\": {\"sum\": 936.4492893218994, \"count\": 1, \"min\": 936.4492893218994, \"max\": 936.4492893218994}}}\u001b[0m\n",
      "\n",
      "2023-03-25 15:26:37 Uploading - Uploading generated training model\n",
      "2023-03-25 15:26:37 Completed - Training job completed\n",
      "Training seconds: 132\n",
      "Billable seconds: 34\n",
      "Managed Spot Training savings: 74.2%\n"
     ]
    }
   ],
   "source": [
    "linear = sagemaker.estimator.Estimator(container,\n",
    "                                      role,\n",
    "                                      instance_count=1,\n",
    "                                      instance_type='ml.c4.xlarge',\n",
    "                                      output_path=output_location,\n",
    "                                      sagemaker_session=sagemaker_session,\n",
    "                                      use_spot_instances=True,\n",
    "                                      max_run=300,\n",
    "                                      max_wait=600)\n",
    "\n",
    "linear.set_hyperparameters(predictor_type='regressor',\n",
    "                           mini_batch_size=5,\n",
    "                           epochs=5,\n",
    "                           num_models=32,\n",
    "                           loss='absolute_loss')\n",
    "\n",
    "linear.fit({'train': s3_train_data})\n",
    "\n"
   ]
  },
  {
   "cell_type": "markdown",
   "metadata": {},
   "source": [
    " # Deploy & Test the trained linear model"
   ]
  },
  {
   "cell_type": "code",
   "execution_count": 122,
   "metadata": {
    "tags": []
   },
   "outputs": [
    {
     "name": "stderr",
     "output_type": "stream",
     "text": [
      "INFO:sagemaker:Creating model with name: linear-learner-2023-03-25-15-34-07-492\n",
      "INFO:sagemaker:Creating endpoint-config with name linear-learner-2023-03-25-15-34-07-492\n",
      "INFO:sagemaker:Creating endpoint with name linear-learner-2023-03-25-15-34-07-492\n"
     ]
    },
    {
     "name": "stdout",
     "output_type": "stream",
     "text": [
      "-------!"
     ]
    }
   ],
   "source": [
    "linear_regressor = linear.deploy(initial_instance_count = 1,\n",
    "                                          instance_type ='ml.m4.xlarge')"
   ]
  },
  {
   "cell_type": "code",
   "execution_count": 129,
   "metadata": {
    "tags": []
   },
   "outputs": [
    {
     "name": "stderr",
     "output_type": "stream",
     "text": [
      "WARNING:sagemaker.deprecations:The csv_serializer has been renamed in sagemaker>=2.\n",
      "See: https://sagemaker.readthedocs.io/en/stable/v2.html for details.\n",
      "WARNING:sagemaker.deprecations:The json_deserializer has been renamed in sagemaker>=2.\n",
      "See: https://sagemaker.readthedocs.io/en/stable/v2.html for details.\n"
     ]
    },
    {
     "name": "stdout",
     "output_type": "stream",
     "text": [
      "{'predictions': [{'score': 143634.03125}]}\n"
     ]
    }
   ],
   "source": [
    "from sagemaker.predictor import csv_serializer, json_deserializer\n",
    "\n",
    "# set the serializer and deserializer types for the predictor object\n",
    "linear_regressor.serializer = csv_serializer\n",
    "linear_regressor.deserializer = json_deserializer\n",
    "\n",
    "# make a prediction on a single example\n",
    "prediction = linear_regressor.predict(X_test[0], initial_args={'ContentType': 'text/csv'})\n",
    "\n",
    "# print the prediction\n",
    "print(prediction)\n",
    "\n"
   ]
  },
  {
   "cell_type": "code",
   "execution_count": 130,
   "metadata": {
    "tags": []
   },
   "outputs": [
    {
     "name": "stderr",
     "output_type": "stream",
     "text": [
      "WARNING:sagemaker.deprecations:The csv_serializer has been renamed in sagemaker>=2.\n",
      "See: https://sagemaker.readthedocs.io/en/stable/v2.html for details.\n",
      "WARNING:sagemaker.deprecations:The json_deserializer has been renamed in sagemaker>=2.\n",
      "See: https://sagemaker.readthedocs.io/en/stable/v2.html for details.\n"
     ]
    }
   ],
   "source": [
    "result = linear_regressor.predict(X_test)"
   ]
  },
  {
   "cell_type": "code",
   "execution_count": 131,
   "metadata": {
    "tags": []
   },
   "outputs": [
    {
     "data": {
      "text/plain": [
       "{'predictions': [{'score': 143634.03125},\n",
       "  {'score': 75268.625},\n",
       "  {'score': 83814.3046875},\n",
       "  {'score': 51768.0234375},\n",
       "  {'score': 34676.66796875},\n",
       "  {'score': 36813.0859375},\n",
       "  {'score': 158588.96875},\n",
       "  {'score': 44290.5546875},\n",
       "  {'score': 64586.53125}]}"
      ]
     },
     "execution_count": 131,
     "metadata": {},
     "output_type": "execute_result"
    }
   ],
   "source": [
    "result"
   ]
  },
  {
   "cell_type": "code",
   "execution_count": 133,
   "metadata": {
    "tags": []
   },
   "outputs": [],
   "source": [
    "predictions = np.array([r['score'] for r in result['predictions']])\n"
   ]
  },
  {
   "cell_type": "code",
   "execution_count": 134,
   "metadata": {
    "tags": []
   },
   "outputs": [
    {
     "data": {
      "text/plain": [
       "array([143634.03125   ,  75268.625     ,  83814.3046875 ,  51768.0234375 ,\n",
       "        34676.66796875,  36813.0859375 , 158588.96875   ,  44290.5546875 ,\n",
       "        64586.53125   ])"
      ]
     },
     "execution_count": 134,
     "metadata": {},
     "output_type": "execute_result"
    }
   ],
   "source": [
    "predictions"
   ]
  },
  {
   "cell_type": "code",
   "execution_count": 136,
   "metadata": {
    "tags": []
   },
   "outputs": [
    {
     "data": {
      "text/plain": [
       "(9,)"
      ]
     },
     "execution_count": 136,
     "metadata": {},
     "output_type": "execute_result"
    }
   ],
   "source": [
    "predictions.shape\n"
   ]
  },
  {
   "cell_type": "code",
   "execution_count": 137,
   "metadata": {
    "tags": []
   },
   "outputs": [
    {
     "data": {
      "text/plain": [
       "Text(0.5, 1.0, 'Salary Vs Years of Experience')"
      ]
     },
     "execution_count": 137,
     "metadata": {},
     "output_type": "execute_result"
    },
    {
     "data": {
      "image/png": "[encoded data removed]",
      "text/plain": [
       "<Figure size 640x480 with 1 Axes>"
      ]
     },
     "metadata": {},
     "output_type": "display_data"
    }
   ],
   "source": [
    "plt.scatter(X_test, y_test, color = 'gray')\n",
    "plt.plot(X_test, predictions, color = 'green')\n",
    "plt.xlabel('Years of experience -Testing dataset')\n",
    "plt.ylabel('salary')\n",
    "plt.title('Salary Vs Years of Experience')\n",
    "            "
   ]
  },
  {
   "cell_type": "code",
   "execution_count": null,
   "metadata": {},
   "outputs": [],
   "source": [
    "linear_regression.delete_endpoint()"
   ]
  }
 ],
 "metadata": {
  "availableInstances": [
   {
    "_defaultOrder": 0,
    "_isFastLaunch": true,
    "category": "General purpose",
    "gpuNum": 0,
    "hideHardwareSpecs": false,
    "memoryGiB": 4,
    "name": "ml.t3.medium",
    "vcpuNum": 2
   },
   {
    "_defaultOrder": 1,
    "_isFastLaunch": false,
    "category": "General purpose",
    "gpuNum": 0,
    "hideHardwareSpecs": false,
    "memoryGiB": 8,
    "name": "ml.t3.large",
    "vcpuNum": 2
   },
   {
    "_defaultOrder": 2,
    "_isFastLaunch": false,
    "category": "General purpose",
    "gpuNum": 0,
    "hideHardwareSpecs": false,
    "memoryGiB": 16,
    "name": "ml.t3.xlarge",
    "vcpuNum": 4
   },
   {
    "_defaultOrder": 3,
    "_isFastLaunch": false,
    "category": "General purpose",
    "gpuNum": 0,
    "hideHardwareSpecs": false,
    "memoryGiB": 32,
    "name": "ml.t3.2xlarge",
    "vcpuNum": 8
   },
   {
    "_defaultOrder": 4,
    "_isFastLaunch": true,
    "category": "General purpose",
    "gpuNum": 0,
    "hideHardwareSpecs": false,
    "memoryGiB": 8,
    "name": "ml.m5.large",
    "vcpuNum": 2
   },
   {
    "_defaultOrder": 5,
    "_isFastLaunch": false,
    "category": "General purpose",
    "gpuNum": 0,
    "hideHardwareSpecs": false,
    "memoryGiB": 16,
    "name": "ml.m5.xlarge",
    "vcpuNum": 4
   },
   {
    "_defaultOrder": 6,
    "_isFastLaunch": false,
    "category": "General purpose",
    "gpuNum": 0,
    "hideHardwareSpecs": false,
    "memoryGiB": 32,
    "name": "ml.m5.2xlarge",
    "vcpuNum": 8
   },
   {
    "_defaultOrder": 7,
    "_isFastLaunch": false,
    "category": "General purpose",
    "gpuNum": 0,
    "hideHardwareSpecs": false,
    "memoryGiB": 64,
    "name": "ml.m5.4xlarge",
    "vcpuNum": 16
   },
   {
    "_defaultOrder": 8,
    "_isFastLaunch": false,
    "category": "General purpose",
    "gpuNum": 0,
    "hideHardwareSpecs": false,
    "memoryGiB": 128,
    "name": "ml.m5.8xlarge",
    "vcpuNum": 32
   },
   {
    "_defaultOrder": 9,
    "_isFastLaunch": false,
    "category": "General purpose",
    "gpuNum": 0,
    "hideHardwareSpecs": false,
    "memoryGiB": 192,
    "name": "ml.m5.12xlarge",
    "vcpuNum": 48
   },
   {
    "_defaultOrder": 10,
    "_isFastLaunch": false,
    "category": "General purpose",
    "gpuNum": 0,
    "hideHardwareSpecs": false,
    "memoryGiB": 256,
    "name": "ml.m5.16xlarge",
    "vcpuNum": 64
   },
   {
    "_defaultOrder": 11,
    "_isFastLaunch": false,
    "category": "General purpose",
    "gpuNum": 0,
    "hideHardwareSpecs": false,
    "memoryGiB": 384,
    "name": "ml.m5.24xlarge",
    "vcpuNum": 96
   },
   {
    "_defaultOrder": 12,
    "_isFastLaunch": false,
    "category": "General purpose",
    "gpuNum": 0,
    "hideHardwareSpecs": false,
    "memoryGiB": 8,
    "name": "ml.m5d.large",
    "vcpuNum": 2
   },
   {
    "_defaultOrder": 13,
    "_isFastLaunch": false,
    "category": "General purpose",
    "gpuNum": 0,
    "hideHardwareSpecs": false,
    "memoryGiB": 16,
    "name": "ml.m5d.xlarge",
    "vcpuNum": 4
   },
   {
    "_defaultOrder": 14,
    "_isFastLaunch": false,
    "category": "General purpose",
    "gpuNum": 0,
    "hideHardwareSpecs": false,
    "memoryGiB": 32,
    "name": "ml.m5d.2xlarge",
    "vcpuNum": 8
   },
   {
    "_defaultOrder": 15,
    "_isFastLaunch": false,
    "category": "General purpose",
    "gpuNum": 0,
    "hideHardwareSpecs": false,
    "memoryGiB": 64,
    "name": "ml.m5d.4xlarge",
    "vcpuNum": 16
   },
   {
    "_defaultOrder": 16,
    "_isFastLaunch": false,
    "category": "General purpose",
    "gpuNum": 0,
    "hideHardwareSpecs": false,
    "memoryGiB": 128,
    "name": "ml.m5d.8xlarge",
    "vcpuNum": 32
   },
   {
    "_defaultOrder": 17,
    "_isFastLaunch": false,
    "category": "General purpose",
    "gpuNum": 0,
    "hideHardwareSpecs": false,
    "memoryGiB": 192,
    "name": "ml.m5d.12xlarge",
    "vcpuNum": 48
   },
   {
    "_defaultOrder": 18,
    "_isFastLaunch": false,
    "category": "General purpose",
    "gpuNum": 0,
    "hideHardwareSpecs": false,
    "memoryGiB": 256,
    "name": "ml.m5d.16xlarge",
    "vcpuNum": 64
   },
   {
    "_defaultOrder": 19,
    "_isFastLaunch": false,
    "category": "General purpose",
    "gpuNum": 0,
    "hideHardwareSpecs": false,
    "memoryGiB": 384,
    "name": "ml.m5d.24xlarge",
    "vcpuNum": 96
   },
   {
    "_defaultOrder": 20,
    "_isFastLaunch": false,
    "category": "General purpose",
    "gpuNum": 0,
    "hideHardwareSpecs": true,
    "memoryGiB": 0,
    "name": "ml.geospatial.interactive",
    "supportedImageNames": [
     "sagemaker-geospatial-v1-0"
    ],
    "vcpuNum": 0
   },
   {
    "_defaultOrder": 21,
    "_isFastLaunch": true,
    "category": "Compute optimized",
    "gpuNum": 0,
    "hideHardwareSpecs": false,
    "memoryGiB": 4,
    "name": "ml.c5.large",
    "vcpuNum": 2
   },
   {
    "_defaultOrder": 22,
    "_isFastLaunch": false,
    "category": "Compute optimized",
    "gpuNum": 0,
    "hideHardwareSpecs": false,
    "memoryGiB": 8,
    "name": "ml.c5.xlarge",
    "vcpuNum": 4
   },
   {
    "_defaultOrder": 23,
    "_isFastLaunch": false,
    "category": "Compute optimized",
    "gpuNum": 0,
    "hideHardwareSpecs": false,
    "memoryGiB": 16,
    "name": "ml.c5.2xlarge",
    "vcpuNum": 8
   },
   {
    "_defaultOrder": 24,
    "_isFastLaunch": false,
    "category": "Compute optimized",
    "gpuNum": 0,
    "hideHardwareSpecs": false,
    "memoryGiB": 32,
    "name": "ml.c5.4xlarge",
    "vcpuNum": 16
   },
   {
    "_defaultOrder": 25,
    "_isFastLaunch": false,
    "category": "Compute optimized",
    "gpuNum": 0,
    "hideHardwareSpecs": false,
    "memoryGiB": 72,
    "name": "ml.c5.9xlarge",
    "vcpuNum": 36
   },
   {
    "_defaultOrder": 26,
    "_isFastLaunch": false,
    "category": "Compute optimized",
    "gpuNum": 0,
    "hideHardwareSpecs": false,
    "memoryGiB": 96,
    "name": "ml.c5.12xlarge",
    "vcpuNum": 48
   },
   {
    "_defaultOrder": 27,
    "_isFastLaunch": false,
    "category": "Compute optimized",
    "gpuNum": 0,
    "hideHardwareSpecs": false,
    "memoryGiB": 144,
    "name": "ml.c5.18xlarge",
    "vcpuNum": 72
   },
   {
    "_defaultOrder": 28,
    "_isFastLaunch": false,
    "category": "Compute optimized",
    "gpuNum": 0,
    "hideHardwareSpecs": false,
    "memoryGiB": 192,
    "name": "ml.c5.24xlarge",
    "vcpuNum": 96
   },
   {
    "_defaultOrder": 29,
    "_isFastLaunch": true,
    "category": "Accelerated computing",
    "gpuNum": 1,
    "hideHardwareSpecs": false,
    "memoryGiB": 16,
    "name": "ml.g4dn.xlarge",
    "vcpuNum": 4
   },
   {
    "_defaultOrder": 30,
    "_isFastLaunch": false,
    "category": "Accelerated computing",
    "gpuNum": 1,
    "hideHardwareSpecs": false,
    "memoryGiB": 32,
    "name": "ml.g4dn.2xlarge",
    "vcpuNum": 8
   },
   {
    "_defaultOrder": 31,
    "_isFastLaunch": false,
    "category": "Accelerated computing",
    "gpuNum": 1,
    "hideHardwareSpecs": false,
    "memoryGiB": 64,
    "name": "ml.g4dn.4xlarge",
    "vcpuNum": 16
   },
   {
    "_defaultOrder": 32,
    "_isFastLaunch": false,
    "category": "Accelerated computing",
    "gpuNum": 1,
    "hideHardwareSpecs": false,
    "memoryGiB": 128,
    "name": "ml.g4dn.8xlarge",
    "vcpuNum": 32
   },
   {
    "_defaultOrder": 33,
    "_isFastLaunch": false,
    "category": "Accelerated computing",
    "gpuNum": 4,
    "hideHardwareSpecs": false,
    "memoryGiB": 192,
    "name": "ml.g4dn.12xlarge",
    "vcpuNum": 48
   },
   {
    "_defaultOrder": 34,
    "_isFastLaunch": false,
    "category": "Accelerated computing",
    "gpuNum": 1,
    "hideHardwareSpecs": false,
    "memoryGiB": 256,
    "name": "ml.g4dn.16xlarge",
    "vcpuNum": 64
   },
   {
    "_defaultOrder": 35,
    "_isFastLaunch": false,
    "category": "Accelerated computing",
    "gpuNum": 1,
    "hideHardwareSpecs": false,
    "memoryGiB": 61,
    "name": "ml.p3.2xlarge",
    "vcpuNum": 8
   },
   {
    "_defaultOrder": 36,
    "_isFastLaunch": false,
    "category": "Accelerated computing",
    "gpuNum": 4,
    "hideHardwareSpecs": false,
    "memoryGiB": 244,
    "name": "ml.p3.8xlarge",
    "vcpuNum": 32
   },
   {
    "_defaultOrder": 37,
    "_isFastLaunch": false,
    "category": "Accelerated computing",
    "gpuNum": 8,
    "hideHardwareSpecs": false,
    "memoryGiB": 488,
    "name": "ml.p3.16xlarge",
    "vcpuNum": 64
   },
   {
    "_defaultOrder": 38,
    "_isFastLaunch": false,
    "category": "Accelerated computing",
    "gpuNum": 8,
    "hideHardwareSpecs": false,
    "memoryGiB": 768,
    "name": "ml.p3dn.24xlarge",
    "vcpuNum": 96
   },
   {
    "_defaultOrder": 39,
    "_isFastLaunch": false,
    "category": "Memory Optimized",
    "gpuNum": 0,
    "hideHardwareSpecs": false,
    "memoryGiB": 16,
    "name": "ml.r5.large",
    "vcpuNum": 2
   },
   {
    "_defaultOrder": 40,
    "_isFastLaunch": false,
    "category": "Memory Optimized",
    "gpuNum": 0,
    "hideHardwareSpecs": false,
    "memoryGiB": 32,
    "name": "ml.r5.xlarge",
    "vcpuNum": 4
   },
   {
    "_defaultOrder": 41,
    "_isFastLaunch": false,
    "category": "Memory Optimized",
    "gpuNum": 0,
    "hideHardwareSpecs": false,
    "memoryGiB": 64,
    "name": "ml.r5.2xlarge",
    "vcpuNum": 8
   },
   {
    "_defaultOrder": 42,
    "_isFastLaunch": false,
    "category": "Memory Optimized",
    "gpuNum": 0,
    "hideHardwareSpecs": false,
    "memoryGiB": 128,
    "name": "ml.r5.4xlarge",
    "vcpuNum": 16
   },
   {
    "_defaultOrder": 43,
    "_isFastLaunch": false,
    "category": "Memory Optimized",
    "gpuNum": 0,
    "hideHardwareSpecs": false,
    "memoryGiB": 256,
    "name": "ml.r5.8xlarge",
    "vcpuNum": 32
   },
   {
    "_defaultOrder": 44,
    "_isFastLaunch": false,
    "category": "Memory Optimized",
    "gpuNum": 0,
    "hideHardwareSpecs": false,
    "memoryGiB": 384,
    "name": "ml.r5.12xlarge",
    "vcpuNum": 48
   },
   {
    "_defaultOrder": 45,
    "_isFastLaunch": false,
    "category": "Memory Optimized",
    "gpuNum": 0,
    "hideHardwareSpecs": false,
    "memoryGiB": 512,
    "name": "ml.r5.16xlarge",
    "vcpuNum": 64
   },
   {
    "_defaultOrder": 46,
    "_isFastLaunch": false,
    "category": "Memory Optimized",
    "gpuNum": 0,
    "hideHardwareSpecs": false,
    "memoryGiB": 768,
    "name": "ml.r5.24xlarge",
    "vcpuNum": 96
   },
   {
    "_defaultOrder": 47,
    "_isFastLaunch": false,
    "category": "Accelerated computing",
    "gpuNum": 1,
    "hideHardwareSpecs": false,
    "memoryGiB": 16,
    "name": "ml.g5.xlarge",
    "vcpuNum": 4
   },
   {
    "_defaultOrder": 48,
    "_isFastLaunch": false,
    "category": "Accelerated computing",
    "gpuNum": 1,
    "hideHardwareSpecs": false,
    "memoryGiB": 32,
    "name": "ml.g5.2xlarge",
    "vcpuNum": 8
   },
   {
    "_defaultOrder": 49,
    "_isFastLaunch": false,
    "category": "Accelerated computing",
    "gpuNum": 1,
    "hideHardwareSpecs": false,
    "memoryGiB": 64,
    "name": "ml.g5.4xlarge",
    "vcpuNum": 16
   },
   {
    "_defaultOrder": 50,
    "_isFastLaunch": false,
    "category": "Accelerated computing",
    "gpuNum": 1,
    "hideHardwareSpecs": false,
    "memoryGiB": 128,
    "name": "ml.g5.8xlarge",
    "vcpuNum": 32
   },
   {
    "_defaultOrder": 51,
    "_isFastLaunch": false,
    "category": "Accelerated computing",
    "gpuNum": 1,
    "hideHardwareSpecs": false,
    "memoryGiB": 256,
    "name": "ml.g5.16xlarge",
    "vcpuNum": 64
   },
   {
    "_defaultOrder": 52,
    "_isFastLaunch": false,
    "category": "Accelerated computing",
    "gpuNum": 4,
    "hideHardwareSpecs": false,
    "memoryGiB": 192,
    "name": "ml.g5.12xlarge",
    "vcpuNum": 48
   },
   {
    "_defaultOrder": 53,
    "_isFastLaunch": false,
    "category": "Accelerated computing",
    "gpuNum": 4,
    "hideHardwareSpecs": false,
    "memoryGiB": 384,
    "name": "ml.g5.24xlarge",
    "vcpuNum": 96
   },
   {
    "_defaultOrder": 54,
    "_isFastLaunch": false,
    "category": "Accelerated computing",
    "gpuNum": 8,
    "hideHardwareSpecs": false,
    "memoryGiB": 768,
    "name": "ml.g5.48xlarge",
    "vcpuNum": 192
   }
  ],
  "instance_type": "ml.t3.medium",
  "kernelspec": {
   "display_name": "Python 3 (Data Science)",
   "language": "python",
   "name": "python3__SAGEMAKER_INTERNAL__arn:aws:sagemaker:us-east-2:429704687514:image/datascience-1.0"
  },
  "language_info": {
   "codemirror_mode": {
    "name": "ipython",
    "version": 3
   },
   "file_extension": ".py",
   "mimetype": "text/x-python",
   "name": "python",
   "nbconvert_exporter": "python",
   "pygments_lexer": "ipython3",
   "version": "3.7.10"
  }
 },
 "nbformat": 4,
 "nbformat_minor": 4
}
